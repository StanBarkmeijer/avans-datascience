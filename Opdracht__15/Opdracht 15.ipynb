{
 "cells": [
  {
   "cell_type": "markdown",
   "metadata": {},
   "source": [
    "# Opdracht 15\n",
    "\n",
    "Train a decision tree to predict the species of a penguin based on their characteristics.\n",
    "\n",
    "- Split the penguin dataset into a train (70%) and test (30%) set.\n",
    "- Use the train set to fit a DecisionTreeClassifier. You are free to schoose which columns you want to use as feature variables and you are also free to choose the maxx_depth of the tree. Note: Some machine learning algorithms can not handle missing values. You owill either need to \n",
    "    - Replace missing values (.fillna())\n",
    "    - Remove rows with missing data (.dropna())\n",
    "- Use your decision tree model to make predictions for both the train and test set\n",
    "- Calculate the accuracy for both the train set predictions and test set predictions\n",
    "- Is the accuracy different? Did you expect this difference?\n",
    "- Use the plot_tree_classification function above to create a plot of the decision tree. Take a few minutes to analyse the decision tree. Do you understand the tree"
   ]
  },
  {
   "cell_type": "code",
   "execution_count": 1,
   "metadata": {},
   "outputs": [],
   "source": [
    "import graphviz\n",
    "\n",
    "import seaborn as sns\n",
    "\n",
    "from sklearn import tree\n",
    "from sklearn.tree import DecisionTreeClassifier\n",
    "from sklearn.model_selection import train_test_split"
   ]
  },
  {
   "cell_type": "code",
   "execution_count": 2,
   "metadata": {},
   "outputs": [
    {
     "data": {
      "text/html": [
       "<div>\n",
       "<style scoped>\n",
       "    .dataframe tbody tr th:only-of-type {\n",
       "        vertical-align: middle;\n",
       "    }\n",
       "\n",
       "    .dataframe tbody tr th {\n",
       "        vertical-align: top;\n",
       "    }\n",
       "\n",
       "    .dataframe thead th {\n",
       "        text-align: right;\n",
       "    }\n",
       "</style>\n",
       "<table border=\"1\" class=\"dataframe\">\n",
       "  <thead>\n",
       "    <tr style=\"text-align: right;\">\n",
       "      <th></th>\n",
       "      <th>species</th>\n",
       "      <th>island</th>\n",
       "      <th>bill_length_mm</th>\n",
       "      <th>bill_depth_mm</th>\n",
       "      <th>flipper_length_mm</th>\n",
       "      <th>body_mass_g</th>\n",
       "      <th>sex</th>\n",
       "    </tr>\n",
       "  </thead>\n",
       "  <tbody>\n",
       "    <tr>\n",
       "      <th>0</th>\n",
       "      <td>Adelie</td>\n",
       "      <td>Torgersen</td>\n",
       "      <td>39.1</td>\n",
       "      <td>18.7</td>\n",
       "      <td>181.0</td>\n",
       "      <td>3750.0</td>\n",
       "      <td>Male</td>\n",
       "    </tr>\n",
       "    <tr>\n",
       "      <th>1</th>\n",
       "      <td>Adelie</td>\n",
       "      <td>Torgersen</td>\n",
       "      <td>39.5</td>\n",
       "      <td>17.4</td>\n",
       "      <td>186.0</td>\n",
       "      <td>3800.0</td>\n",
       "      <td>Female</td>\n",
       "    </tr>\n",
       "    <tr>\n",
       "      <th>2</th>\n",
       "      <td>Adelie</td>\n",
       "      <td>Torgersen</td>\n",
       "      <td>40.3</td>\n",
       "      <td>18.0</td>\n",
       "      <td>195.0</td>\n",
       "      <td>3250.0</td>\n",
       "      <td>Female</td>\n",
       "    </tr>\n",
       "    <tr>\n",
       "      <th>3</th>\n",
       "      <td>Adelie</td>\n",
       "      <td>Torgersen</td>\n",
       "      <td>NaN</td>\n",
       "      <td>NaN</td>\n",
       "      <td>NaN</td>\n",
       "      <td>NaN</td>\n",
       "      <td>NaN</td>\n",
       "    </tr>\n",
       "    <tr>\n",
       "      <th>4</th>\n",
       "      <td>Adelie</td>\n",
       "      <td>Torgersen</td>\n",
       "      <td>36.7</td>\n",
       "      <td>19.3</td>\n",
       "      <td>193.0</td>\n",
       "      <td>3450.0</td>\n",
       "      <td>Female</td>\n",
       "    </tr>\n",
       "  </tbody>\n",
       "</table>\n",
       "</div>"
      ],
      "text/plain": [
       "  species     island  bill_length_mm  bill_depth_mm  flipper_length_mm  \\\n",
       "0  Adelie  Torgersen            39.1           18.7              181.0   \n",
       "1  Adelie  Torgersen            39.5           17.4              186.0   \n",
       "2  Adelie  Torgersen            40.3           18.0              195.0   \n",
       "3  Adelie  Torgersen             NaN            NaN                NaN   \n",
       "4  Adelie  Torgersen            36.7           19.3              193.0   \n",
       "\n",
       "   body_mass_g     sex  \n",
       "0       3750.0    Male  \n",
       "1       3800.0  Female  \n",
       "2       3250.0  Female  \n",
       "3          NaN     NaN  \n",
       "4       3450.0  Female  "
      ]
     },
     "execution_count": 2,
     "metadata": {},
     "output_type": "execute_result"
    }
   ],
   "source": [
    "pg = sns.load_dataset(\"penguins\")\n",
    "pg.head()"
   ]
  },
  {
   "cell_type": "code",
   "execution_count": 3,
   "metadata": {},
   "outputs": [],
   "source": [
    "pg_train, pg_test = train_test_split(pg, test_size=0.3)\n",
    "\n",
    "pg_train = pg_train.dropna()\n",
    "pg_test = pg_test.dropna()"
   ]
  },
  {
   "cell_type": "code",
   "execution_count": 4,
   "metadata": {},
   "outputs": [
    {
     "data": {
      "text/plain": [
       "DecisionTreeClassifier(max_depth=3)"
      ]
     },
     "execution_count": 4,
     "metadata": {},
     "output_type": "execute_result"
    }
   ],
   "source": [
    "features = [\"bill_length_mm\", \"bill_depth_mm\"]\n",
    "dt = DecisionTreeClassifier(max_depth=3)\n",
    "dt.fit(pg_train[features], pg_train[\"species\"])"
   ]
  },
  {
   "cell_type": "code",
   "execution_count": 5,
   "metadata": {},
   "outputs": [],
   "source": [
    "def plot_tree_classification(model, features, class_names):\n",
    "    dot_data = tree.export_graphviz(model, out_file=None,\n",
    "                                   feature_names = features,\n",
    "                                   class_names= class_names,\n",
    "                                   filled=True, rounded = True,\n",
    "                                   special_characters = True)\n",
    "    graph = graphviz.Source(dot_data)\n",
    "    graph.render(\"decision_tree\")\n",
    "    return graph"
   ]
  },
  {
   "cell_type": "code",
   "execution_count": 6,
   "metadata": {},
   "outputs": [
    {
     "data": {
      "image/svg+xml": [
       "<?xml version=\"1.0\" encoding=\"UTF-8\" standalone=\"no\"?>\r\n",
       "<!DOCTYPE svg PUBLIC \"-//W3C//DTD SVG 1.1//EN\"\r\n",
       " \"http://www.w3.org/Graphics/SVG/1.1/DTD/svg11.dtd\">\r\n",
       "<!-- Generated by graphviz version 2.38.0 (20140413.2041)\r\n",
       " -->\r\n",
       "<!-- Title: Tree Pages: 1 -->\r\n",
       "<svg width=\"689pt\" height=\"433pt\"\r\n",
       " viewBox=\"0.00 0.00 689.00 433.00\" xmlns=\"http://www.w3.org/2000/svg\" xmlns:xlink=\"http://www.w3.org/1999/xlink\">\r\n",
       "<g id=\"graph0\" class=\"graph\" transform=\"scale(1 1) rotate(0) translate(4 429)\">\r\n",
       "<title>Tree</title>\r\n",
       "<polygon fill=\"white\" stroke=\"none\" points=\"-4,4 -4,-429 685,-429 685,4 -4,4\"/>\r\n",
       "<!-- 0 -->\r\n",
       "<g id=\"node1\" class=\"node\"><title>0</title>\r\n",
       "<path fill=\"#fbeade\" stroke=\"black\" d=\"M379.5,-425C379.5,-425 239.5,-425 239.5,-425 233.5,-425 227.5,-419 227.5,-413 227.5,-413 227.5,-354 227.5,-354 227.5,-348 233.5,-342 239.5,-342 239.5,-342 379.5,-342 379.5,-342 385.5,-342 391.5,-348 391.5,-354 391.5,-354 391.5,-413 391.5,-413 391.5,-419 385.5,-425 379.5,-425\"/>\r\n",
       "<text text-anchor=\"start\" x=\"235.5\" y=\"-409.8\" font-family=\"Helvetica,sans-Serif\" font-size=\"14.00\">bill_length_mm ≤ 43.25</text>\r\n",
       "<text text-anchor=\"start\" x=\"276\" y=\"-394.8\" font-family=\"Helvetica,sans-Serif\" font-size=\"14.00\">gini = 0.64</text>\r\n",
       "<text text-anchor=\"start\" x=\"262\" y=\"-379.8\" font-family=\"Helvetica,sans-Serif\" font-size=\"14.00\">samples = 232</text>\r\n",
       "<text text-anchor=\"start\" x=\"244.5\" y=\"-364.8\" font-family=\"Helvetica,sans-Serif\" font-size=\"14.00\">value = [104, 50, 78]</text>\r\n",
       "<text text-anchor=\"start\" x=\"264.5\" y=\"-349.8\" font-family=\"Helvetica,sans-Serif\" font-size=\"14.00\">class = Adelie</text>\r\n",
       "</g>\r\n",
       "<!-- 1 -->\r\n",
       "<g id=\"node2\" class=\"node\"><title>1</title>\r\n",
       "<path fill=\"#e78a47\" stroke=\"black\" d=\"M288.5,-306C288.5,-306 150.5,-306 150.5,-306 144.5,-306 138.5,-300 138.5,-294 138.5,-294 138.5,-235 138.5,-235 138.5,-229 144.5,-223 150.5,-223 150.5,-223 288.5,-223 288.5,-223 294.5,-223 300.5,-229 300.5,-235 300.5,-235 300.5,-294 300.5,-294 300.5,-300 294.5,-306 288.5,-306\"/>\r\n",
       "<text text-anchor=\"start\" x=\"146.5\" y=\"-290.8\" font-family=\"Helvetica,sans-Serif\" font-size=\"14.00\">bill_depth_mm ≤ 14.85</text>\r\n",
       "<text text-anchor=\"start\" x=\"182\" y=\"-275.8\" font-family=\"Helvetica,sans-Serif\" font-size=\"14.00\">gini = 0.125</text>\r\n",
       "<text text-anchor=\"start\" x=\"172\" y=\"-260.8\" font-family=\"Helvetica,sans-Serif\" font-size=\"14.00\">samples = 106</text>\r\n",
       "<text text-anchor=\"start\" x=\"167\" y=\"-245.8\" font-family=\"Helvetica,sans-Serif\" font-size=\"14.00\">value = [99, 3, 4]</text>\r\n",
       "<text text-anchor=\"start\" x=\"174.5\" y=\"-230.8\" font-family=\"Helvetica,sans-Serif\" font-size=\"14.00\">class = Adelie</text>\r\n",
       "</g>\r\n",
       "<!-- 0&#45;&gt;1 -->\r\n",
       "<g id=\"edge1\" class=\"edge\"><title>0&#45;&gt;1</title>\r\n",
       "<path fill=\"none\" stroke=\"black\" d=\"M278.275,-341.907C271.364,-332.923 263.973,-323.315 256.846,-314.05\"/>\r\n",
       "<polygon fill=\"black\" stroke=\"black\" points=\"259.541,-311.813 250.67,-306.021 253.993,-316.081 259.541,-311.813\"/>\r\n",
       "<text text-anchor=\"middle\" x=\"247.436\" y=\"-327.111\" font-family=\"Helvetica,sans-Serif\" font-size=\"14.00\">True</text>\r\n",
       "</g>\r\n",
       "<!-- 6 -->\r\n",
       "<g id=\"node7\" class=\"node\"><title>6</title>\r\n",
       "<path fill=\"#d4bbf6\" stroke=\"black\" d=\"M468.5,-306C468.5,-306 330.5,-306 330.5,-306 324.5,-306 318.5,-300 318.5,-294 318.5,-294 318.5,-235 318.5,-235 318.5,-229 324.5,-223 330.5,-223 330.5,-223 468.5,-223 468.5,-223 474.5,-223 480.5,-229 480.5,-235 480.5,-235 480.5,-294 480.5,-294 480.5,-300 474.5,-306 468.5,-306\"/>\r\n",
       "<text text-anchor=\"start\" x=\"326.5\" y=\"-290.8\" font-family=\"Helvetica,sans-Serif\" font-size=\"14.00\">bill_depth_mm ≤ 16.35</text>\r\n",
       "<text text-anchor=\"start\" x=\"362\" y=\"-275.8\" font-family=\"Helvetica,sans-Serif\" font-size=\"14.00\">gini = 0.514</text>\r\n",
       "<text text-anchor=\"start\" x=\"352\" y=\"-260.8\" font-family=\"Helvetica,sans-Serif\" font-size=\"14.00\">samples = 126</text>\r\n",
       "<text text-anchor=\"start\" x=\"343\" y=\"-245.8\" font-family=\"Helvetica,sans-Serif\" font-size=\"14.00\">value = [5, 47, 74]</text>\r\n",
       "<text text-anchor=\"start\" x=\"345\" y=\"-230.8\" font-family=\"Helvetica,sans-Serif\" font-size=\"14.00\">class = Chinstrap</text>\r\n",
       "</g>\r\n",
       "<!-- 0&#45;&gt;6 -->\r\n",
       "<g id=\"edge6\" class=\"edge\"><title>0&#45;&gt;6</title>\r\n",
       "<path fill=\"none\" stroke=\"black\" d=\"M340.725,-341.907C347.636,-332.923 355.027,-323.315 362.154,-314.05\"/>\r\n",
       "<polygon fill=\"black\" stroke=\"black\" points=\"365.007,-316.081 368.33,-306.021 359.459,-311.813 365.007,-316.081\"/>\r\n",
       "<text text-anchor=\"middle\" x=\"371.564\" y=\"-327.111\" font-family=\"Helvetica,sans-Serif\" font-size=\"14.00\">False</text>\r\n",
       "</g>\r\n",
       "<!-- 2 -->\r\n",
       "<g id=\"node3\" class=\"node\"><title>2</title>\r\n",
       "<path fill=\"#8139e5\" stroke=\"black\" d=\"M113,-179.5C113,-179.5 12,-179.5 12,-179.5 6,-179.5 0,-173.5 0,-167.5 0,-167.5 0,-123.5 0,-123.5 0,-117.5 6,-111.5 12,-111.5 12,-111.5 113,-111.5 113,-111.5 119,-111.5 125,-117.5 125,-123.5 125,-123.5 125,-167.5 125,-167.5 125,-173.5 119,-179.5 113,-179.5\"/>\r\n",
       "<text text-anchor=\"start\" x=\"33.5\" y=\"-164.3\" font-family=\"Helvetica,sans-Serif\" font-size=\"14.00\">gini = 0.0</text>\r\n",
       "<text text-anchor=\"start\" x=\"23\" y=\"-149.3\" font-family=\"Helvetica,sans-Serif\" font-size=\"14.00\">samples = 4</text>\r\n",
       "<text text-anchor=\"start\" x=\"14\" y=\"-134.3\" font-family=\"Helvetica,sans-Serif\" font-size=\"14.00\">value = [0, 0, 4]</text>\r\n",
       "<text text-anchor=\"start\" x=\"8\" y=\"-119.3\" font-family=\"Helvetica,sans-Serif\" font-size=\"14.00\">class = Chinstrap</text>\r\n",
       "</g>\r\n",
       "<!-- 1&#45;&gt;2 -->\r\n",
       "<g id=\"edge2\" class=\"edge\"><title>1&#45;&gt;2</title>\r\n",
       "<path fill=\"none\" stroke=\"black\" d=\"M165.03,-222.907C148.89,-210.88 131.251,-197.735 115.224,-185.791\"/>\r\n",
       "<polygon fill=\"black\" stroke=\"black\" points=\"117.116,-182.836 107.006,-179.667 112.933,-188.449 117.116,-182.836\"/>\r\n",
       "</g>\r\n",
       "<!-- 3 -->\r\n",
       "<g id=\"node4\" class=\"node\"><title>3</title>\r\n",
       "<path fill=\"#e6853f\" stroke=\"black\" d=\"M293.5,-187C293.5,-187 155.5,-187 155.5,-187 149.5,-187 143.5,-181 143.5,-175 143.5,-175 143.5,-116 143.5,-116 143.5,-110 149.5,-104 155.5,-104 155.5,-104 293.5,-104 293.5,-104 299.5,-104 305.5,-110 305.5,-116 305.5,-116 305.5,-175 305.5,-175 305.5,-181 299.5,-187 293.5,-187\"/>\r\n",
       "<text text-anchor=\"start\" x=\"151.5\" y=\"-171.8\" font-family=\"Helvetica,sans-Serif\" font-size=\"14.00\">bill_depth_mm ≤ 16.75</text>\r\n",
       "<text text-anchor=\"start\" x=\"187\" y=\"-156.8\" font-family=\"Helvetica,sans-Serif\" font-size=\"14.00\">gini = 0.057</text>\r\n",
       "<text text-anchor=\"start\" x=\"177\" y=\"-141.8\" font-family=\"Helvetica,sans-Serif\" font-size=\"14.00\">samples = 102</text>\r\n",
       "<text text-anchor=\"start\" x=\"172\" y=\"-126.8\" font-family=\"Helvetica,sans-Serif\" font-size=\"14.00\">value = [99, 3, 0]</text>\r\n",
       "<text text-anchor=\"start\" x=\"179.5\" y=\"-111.8\" font-family=\"Helvetica,sans-Serif\" font-size=\"14.00\">class = Adelie</text>\r\n",
       "</g>\r\n",
       "<!-- 1&#45;&gt;3 -->\r\n",
       "<g id=\"edge3\" class=\"edge\"><title>1&#45;&gt;3</title>\r\n",
       "<path fill=\"none\" stroke=\"black\" d=\"M221.235,-222.907C221.592,-214.558 221.971,-205.671 222.341,-197.02\"/>\r\n",
       "<polygon fill=\"black\" stroke=\"black\" points=\"225.838,-197.161 222.768,-187.021 218.844,-196.862 225.838,-197.161\"/>\r\n",
       "</g>\r\n",
       "<!-- 4 -->\r\n",
       "<g id=\"node5\" class=\"node\"><title>4</title>\r\n",
       "<path fill=\"#f0b78e\" stroke=\"black\" d=\"M192,-68C192,-68 103,-68 103,-68 97,-68 91,-62 91,-56 91,-56 91,-12 91,-12 91,-6 97,-0 103,-0 103,-0 192,-0 192,-0 198,-0 204,-6 204,-12 204,-12 204,-56 204,-56 204,-62 198,-68 192,-68\"/>\r\n",
       "<text text-anchor=\"start\" x=\"114\" y=\"-52.8\" font-family=\"Helvetica,sans-Serif\" font-size=\"14.00\">gini = 0.42</text>\r\n",
       "<text text-anchor=\"start\" x=\"104\" y=\"-37.8\" font-family=\"Helvetica,sans-Serif\" font-size=\"14.00\">samples = 10</text>\r\n",
       "<text text-anchor=\"start\" x=\"99\" y=\"-22.8\" font-family=\"Helvetica,sans-Serif\" font-size=\"14.00\">value = [7, 3, 0]</text>\r\n",
       "<text text-anchor=\"start\" x=\"102.5\" y=\"-7.8\" font-family=\"Helvetica,sans-Serif\" font-size=\"14.00\">class = Adelie</text>\r\n",
       "</g>\r\n",
       "<!-- 3&#45;&gt;4 -->\r\n",
       "<g id=\"edge4\" class=\"edge\"><title>3&#45;&gt;4</title>\r\n",
       "<path fill=\"none\" stroke=\"black\" d=\"M195.828,-103.726C189.607,-94.879 183.018,-85.51 176.774,-76.6303\"/>\r\n",
       "<polygon fill=\"black\" stroke=\"black\" points=\"179.531,-74.4664 170.916,-68.2996 173.805,-78.4929 179.531,-74.4664\"/>\r\n",
       "</g>\r\n",
       "<!-- 5 -->\r\n",
       "<g id=\"node6\" class=\"node\"><title>5</title>\r\n",
       "<path fill=\"#e58139\" stroke=\"black\" d=\"M331,-68C331,-68 234,-68 234,-68 228,-68 222,-62 222,-56 222,-56 222,-12 222,-12 222,-6 228,-0 234,-0 234,-0 331,-0 331,-0 337,-0 343,-6 343,-12 343,-12 343,-56 343,-56 343,-62 337,-68 331,-68\"/>\r\n",
       "<text text-anchor=\"start\" x=\"253.5\" y=\"-52.8\" font-family=\"Helvetica,sans-Serif\" font-size=\"14.00\">gini = 0.0</text>\r\n",
       "<text text-anchor=\"start\" x=\"239\" y=\"-37.8\" font-family=\"Helvetica,sans-Serif\" font-size=\"14.00\">samples = 92</text>\r\n",
       "<text text-anchor=\"start\" x=\"230\" y=\"-22.8\" font-family=\"Helvetica,sans-Serif\" font-size=\"14.00\">value = [92, 0, 0]</text>\r\n",
       "<text text-anchor=\"start\" x=\"237.5\" y=\"-7.8\" font-family=\"Helvetica,sans-Serif\" font-size=\"14.00\">class = Adelie</text>\r\n",
       "</g>\r\n",
       "<!-- 3&#45;&gt;5 -->\r\n",
       "<g id=\"edge5\" class=\"edge\"><title>3&#45;&gt;5</title>\r\n",
       "<path fill=\"none\" stroke=\"black\" d=\"M246.097,-103.726C250.687,-95.0615 255.541,-85.8962 260.158,-77.1802\"/>\r\n",
       "<polygon fill=\"black\" stroke=\"black\" points=\"263.274,-78.7748 264.862,-68.2996 257.088,-75.4982 263.274,-78.7748\"/>\r\n",
       "</g>\r\n",
       "<!-- 7 -->\r\n",
       "<g id=\"node8\" class=\"node\"><title>7</title>\r\n",
       "<path fill=\"#8139e5\" stroke=\"black\" d=\"M446,-179.5C446,-179.5 345,-179.5 345,-179.5 339,-179.5 333,-173.5 333,-167.5 333,-167.5 333,-123.5 333,-123.5 333,-117.5 339,-111.5 345,-111.5 345,-111.5 446,-111.5 446,-111.5 452,-111.5 458,-117.5 458,-123.5 458,-123.5 458,-167.5 458,-167.5 458,-173.5 452,-179.5 446,-179.5\"/>\r\n",
       "<text text-anchor=\"start\" x=\"366.5\" y=\"-164.3\" font-family=\"Helvetica,sans-Serif\" font-size=\"14.00\">gini = 0.0</text>\r\n",
       "<text text-anchor=\"start\" x=\"352\" y=\"-149.3\" font-family=\"Helvetica,sans-Serif\" font-size=\"14.00\">samples = 67</text>\r\n",
       "<text text-anchor=\"start\" x=\"343\" y=\"-134.3\" font-family=\"Helvetica,sans-Serif\" font-size=\"14.00\">value = [0, 0, 67]</text>\r\n",
       "<text text-anchor=\"start\" x=\"341\" y=\"-119.3\" font-family=\"Helvetica,sans-Serif\" font-size=\"14.00\">class = Chinstrap</text>\r\n",
       "</g>\r\n",
       "<!-- 6&#45;&gt;7 -->\r\n",
       "<g id=\"edge7\" class=\"edge\"><title>6&#45;&gt;7</title>\r\n",
       "<path fill=\"none\" stroke=\"black\" d=\"M398.112,-222.907C397.746,-212.204 397.35,-200.615 396.98,-189.776\"/>\r\n",
       "<polygon fill=\"black\" stroke=\"black\" points=\"400.474,-189.541 396.634,-179.667 393.478,-189.781 400.474,-189.541\"/>\r\n",
       "</g>\r\n",
       "<!-- 8 -->\r\n",
       "<g id=\"node9\" class=\"node\"><title>8</title>\r\n",
       "<path fill=\"#67eb9e\" stroke=\"black\" d=\"M618.5,-187C618.5,-187 488.5,-187 488.5,-187 482.5,-187 476.5,-181 476.5,-175 476.5,-175 476.5,-116 476.5,-116 476.5,-110 482.5,-104 488.5,-104 488.5,-104 618.5,-104 618.5,-104 624.5,-104 630.5,-110 630.5,-116 630.5,-116 630.5,-175 630.5,-175 630.5,-181 624.5,-187 618.5,-187\"/>\r\n",
       "<text text-anchor=\"start\" x=\"484.5\" y=\"-171.8\" font-family=\"Helvetica,sans-Serif\" font-size=\"14.00\">bill_depth_mm ≤ 17.4</text>\r\n",
       "<text text-anchor=\"start\" x=\"516\" y=\"-156.8\" font-family=\"Helvetica,sans-Serif\" font-size=\"14.00\">gini = 0.344</text>\r\n",
       "<text text-anchor=\"start\" x=\"510\" y=\"-141.8\" font-family=\"Helvetica,sans-Serif\" font-size=\"14.00\">samples = 59</text>\r\n",
       "<text text-anchor=\"start\" x=\"501\" y=\"-126.8\" font-family=\"Helvetica,sans-Serif\" font-size=\"14.00\">value = [5, 47, 7]</text>\r\n",
       "<text text-anchor=\"start\" x=\"505\" y=\"-111.8\" font-family=\"Helvetica,sans-Serif\" font-size=\"14.00\">class = Gentoo</text>\r\n",
       "</g>\r\n",
       "<!-- 6&#45;&gt;8 -->\r\n",
       "<g id=\"edge8\" class=\"edge\"><title>6&#45;&gt;8</title>\r\n",
       "<path fill=\"none\" stroke=\"black\" d=\"M452.93,-222.907C465.591,-213.288 479.194,-202.953 492.176,-193.09\"/>\r\n",
       "<polygon fill=\"black\" stroke=\"black\" points=\"494.32,-195.857 500.165,-187.021 490.085,-190.283 494.32,-195.857\"/>\r\n",
       "</g>\r\n",
       "<!-- 9 -->\r\n",
       "<g id=\"node10\" class=\"node\"><title>9</title>\r\n",
       "<path fill=\"#d3f9e3\" stroke=\"black\" d=\"M530,-68C530,-68 441,-68 441,-68 435,-68 429,-62 429,-56 429,-56 429,-12 429,-12 429,-6 435,-0 441,-0 441,-0 530,-0 530,-0 536,-0 542,-6 542,-12 542,-12 542,-56 542,-56 542,-62 536,-68 530,-68\"/>\r\n",
       "<text text-anchor=\"start\" x=\"448\" y=\"-52.8\" font-family=\"Helvetica,sans-Serif\" font-size=\"14.00\">gini = 0.492</text>\r\n",
       "<text text-anchor=\"start\" x=\"442\" y=\"-37.8\" font-family=\"Helvetica,sans-Serif\" font-size=\"14.00\">samples = 16</text>\r\n",
       "<text text-anchor=\"start\" x=\"437\" y=\"-22.8\" font-family=\"Helvetica,sans-Serif\" font-size=\"14.00\">value = [0, 9, 7]</text>\r\n",
       "<text text-anchor=\"start\" x=\"437\" y=\"-7.8\" font-family=\"Helvetica,sans-Serif\" font-size=\"14.00\">class = Gentoo</text>\r\n",
       "</g>\r\n",
       "<!-- 8&#45;&gt;9 -->\r\n",
       "<g id=\"edge9\" class=\"edge\"><title>8&#45;&gt;9</title>\r\n",
       "<path fill=\"none\" stroke=\"black\" d=\"M528.179,-103.726C522.742,-94.9703 516.987,-85.7032 511.523,-76.9051\"/>\r\n",
       "<polygon fill=\"black\" stroke=\"black\" points=\"514.428,-74.9484 506.179,-68.2996 508.481,-78.6413 514.428,-74.9484\"/>\r\n",
       "</g>\r\n",
       "<!-- 10 -->\r\n",
       "<g id=\"node11\" class=\"node\"><title>10</title>\r\n",
       "<path fill=\"#53e892\" stroke=\"black\" d=\"M669,-68C669,-68 572,-68 572,-68 566,-68 560,-62 560,-56 560,-56 560,-12 560,-12 560,-6 566,-0 572,-0 572,-0 669,-0 669,-0 675,-0 681,-6 681,-12 681,-12 681,-56 681,-56 681,-62 675,-68 669,-68\"/>\r\n",
       "<text text-anchor=\"start\" x=\"583\" y=\"-52.8\" font-family=\"Helvetica,sans-Serif\" font-size=\"14.00\">gini = 0.206</text>\r\n",
       "<text text-anchor=\"start\" x=\"577\" y=\"-37.8\" font-family=\"Helvetica,sans-Serif\" font-size=\"14.00\">samples = 43</text>\r\n",
       "<text text-anchor=\"start\" x=\"568\" y=\"-22.8\" font-family=\"Helvetica,sans-Serif\" font-size=\"14.00\">value = [5, 38, 0]</text>\r\n",
       "<text text-anchor=\"start\" x=\"572\" y=\"-7.8\" font-family=\"Helvetica,sans-Serif\" font-size=\"14.00\">class = Gentoo</text>\r\n",
       "</g>\r\n",
       "<!-- 8&#45;&gt;10 -->\r\n",
       "<g id=\"edge10\" class=\"edge\"><title>8&#45;&gt;10</title>\r\n",
       "<path fill=\"none\" stroke=\"black\" d=\"M578.448,-103.726C583.806,-94.9703 589.476,-85.7032 594.859,-76.9051\"/>\r\n",
       "<polygon fill=\"black\" stroke=\"black\" points=\"597.891,-78.6563 600.125,-68.2996 591.92,-75.0028 597.891,-78.6563\"/>\r\n",
       "</g>\r\n",
       "</g>\r\n",
       "</svg>\r\n"
      ],
      "text/plain": [
       "<graphviz.files.Source at 0x140ac1ebca0>"
      ]
     },
     "execution_count": 6,
     "metadata": {},
     "output_type": "execute_result"
    }
   ],
   "source": [
    "plot_tree_classification(dt, features, pg_train.species.unique())"
   ]
  },
  {
   "cell_type": "code",
   "execution_count": 7,
   "metadata": {},
   "outputs": [],
   "source": [
    " def calculate_accuracy(predictions, actuals):\n",
    "    if(len(predictions) != len(actuals)):\n",
    "        raise Exeption(\"The amount of predictions did not equal the amount of actuals\")\n",
    "        \n",
    "    return (predictions == actuals).sum() / len(actuals)"
   ]
  },
  {
   "cell_type": "code",
   "execution_count": 8,
   "metadata": {},
   "outputs": [
    {
     "data": {
      "text/plain": [
       "0.9353448275862069"
      ]
     },
     "execution_count": 8,
     "metadata": {},
     "output_type": "execute_result"
    }
   ],
   "source": [
    "predictions = dt.predict(pg_train[features])\n",
    "calculate_accuracy(predictions, pg_train.species)"
   ]
  },
  {
   "cell_type": "code",
   "execution_count": 9,
   "metadata": {},
   "outputs": [
    {
     "data": {
      "text/plain": [
       "0.9603960396039604"
      ]
     },
     "execution_count": 9,
     "metadata": {},
     "output_type": "execute_result"
    }
   ],
   "source": [
    "predictions = dt.predict(pg_test[features])\n",
    "calculate_accuracy(predictions, pg_test.species)"
   ]
  },
  {
   "cell_type": "markdown",
   "metadata": {},
   "source": [
    "Er is hieronder te zien dat er een verschil van 0.03 is, ofwel 3%. \n",
    "Ik had dit verschil verwacht, omdat er 30% gebruikt wordt ipv 70% van de data, dus heeft het niet zo veel data om te trainen"
   ]
  }
 ],
 "metadata": {
  "kernelspec": {
   "display_name": "Python 3",
   "language": "python",
   "name": "python3"
  },
  "language_info": {
   "codemirror_mode": {
    "name": "ipython",
    "version": 3
   },
   "file_extension": ".py",
   "mimetype": "text/x-python",
   "name": "python",
   "nbconvert_exporter": "python",
   "pygments_lexer": "ipython3",
   "version": "3.8.5"
  }
 },
 "nbformat": 4,
 "nbformat_minor": 4
}
