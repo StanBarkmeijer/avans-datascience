{
 "cells": [
  {
   "cell_type": "markdown",
   "metadata": {},
   "source": [
    "# Opdracht 15\n",
    "\n",
    "Train a decision tree to predict the species of a penguin based on their characteristics.\n",
    "\n",
    "- Split the penguin dataset into a train (70%) and test (30%) set.\n",
    "- Use the train set to fit a DecisionTreeClassifier. You are free to schoose which columns you want to use as feature variables and you are also free to choose the maxx_depth of the tree. Note: Some machine learning algorithms can not handle missing values. You owill either need to \n",
    "    - Replace missing values (.fillna())\n",
    "    - Remove rows with missing data (.dropna())\n",
    "- Use your decision tree model to make predictions for both the train and test set\n",
    "- Calculate the accuracy for both the train set predictions and test set predictions\n",
    "- Is the accuracy different? Did you expect this difference?\n",
    "- Use the plot_tree_classification function above to create a plot of the decision tree. Take a few minutes to analyse the decision tree. Do you understand the tree"
   ]
  },
  {
   "cell_type": "code",
   "execution_count": 1,
   "metadata": {},
   "outputs": [],
   "source": [
    "import graphviz\n",
    "\n",
    "import seaborn as sns\n",
    "\n",
    "from sklearn import tree\n",
    "from sklearn.tree import DecisionTreeClassifier\n",
    "from sklearn.model_selection import train_test_split"
   ]
  },
  {
   "cell_type": "code",
   "execution_count": 2,
   "metadata": {},
   "outputs": [
    {
     "data": {
      "text/html": [
       "<div>\n",
       "<style scoped>\n",
       "    .dataframe tbody tr th:only-of-type {\n",
       "        vertical-align: middle;\n",
       "    }\n",
       "\n",
       "    .dataframe tbody tr th {\n",
       "        vertical-align: top;\n",
       "    }\n",
       "\n",
       "    .dataframe thead th {\n",
       "        text-align: right;\n",
       "    }\n",
       "</style>\n",
       "<table border=\"1\" class=\"dataframe\">\n",
       "  <thead>\n",
       "    <tr style=\"text-align: right;\">\n",
       "      <th></th>\n",
       "      <th>species</th>\n",
       "      <th>island</th>\n",
       "      <th>bill_length_mm</th>\n",
       "      <th>bill_depth_mm</th>\n",
       "      <th>flipper_length_mm</th>\n",
       "      <th>body_mass_g</th>\n",
       "      <th>sex</th>\n",
       "    </tr>\n",
       "  </thead>\n",
       "  <tbody>\n",
       "    <tr>\n",
       "      <th>0</th>\n",
       "      <td>Adelie</td>\n",
       "      <td>Torgersen</td>\n",
       "      <td>39.1</td>\n",
       "      <td>18.7</td>\n",
       "      <td>181.0</td>\n",
       "      <td>3750.0</td>\n",
       "      <td>Male</td>\n",
       "    </tr>\n",
       "    <tr>\n",
       "      <th>1</th>\n",
       "      <td>Adelie</td>\n",
       "      <td>Torgersen</td>\n",
       "      <td>39.5</td>\n",
       "      <td>17.4</td>\n",
       "      <td>186.0</td>\n",
       "      <td>3800.0</td>\n",
       "      <td>Female</td>\n",
       "    </tr>\n",
       "    <tr>\n",
       "      <th>2</th>\n",
       "      <td>Adelie</td>\n",
       "      <td>Torgersen</td>\n",
       "      <td>40.3</td>\n",
       "      <td>18.0</td>\n",
       "      <td>195.0</td>\n",
       "      <td>3250.0</td>\n",
       "      <td>Female</td>\n",
       "    </tr>\n",
       "    <tr>\n",
       "      <th>3</th>\n",
       "      <td>Adelie</td>\n",
       "      <td>Torgersen</td>\n",
       "      <td>NaN</td>\n",
       "      <td>NaN</td>\n",
       "      <td>NaN</td>\n",
       "      <td>NaN</td>\n",
       "      <td>NaN</td>\n",
       "    </tr>\n",
       "    <tr>\n",
       "      <th>4</th>\n",
       "      <td>Adelie</td>\n",
       "      <td>Torgersen</td>\n",
       "      <td>36.7</td>\n",
       "      <td>19.3</td>\n",
       "      <td>193.0</td>\n",
       "      <td>3450.0</td>\n",
       "      <td>Female</td>\n",
       "    </tr>\n",
       "  </tbody>\n",
       "</table>\n",
       "</div>"
      ],
      "text/plain": [
       "  species     island  bill_length_mm  bill_depth_mm  flipper_length_mm  \\\n",
       "0  Adelie  Torgersen            39.1           18.7              181.0   \n",
       "1  Adelie  Torgersen            39.5           17.4              186.0   \n",
       "2  Adelie  Torgersen            40.3           18.0              195.0   \n",
       "3  Adelie  Torgersen             NaN            NaN                NaN   \n",
       "4  Adelie  Torgersen            36.7           19.3              193.0   \n",
       "\n",
       "   body_mass_g     sex  \n",
       "0       3750.0    Male  \n",
       "1       3800.0  Female  \n",
       "2       3250.0  Female  \n",
       "3          NaN     NaN  \n",
       "4       3450.0  Female  "
      ]
     },
     "execution_count": 2,
     "metadata": {},
     "output_type": "execute_result"
    }
   ],
   "source": [
    "pg = sns.load_dataset(\"penguins\")\n",
    "pg.head()"
   ]
  },
  {
   "cell_type": "code",
   "execution_count": 3,
   "metadata": {},
   "outputs": [],
   "source": [
    "pg_train, pg_test = train_test_split(pg, test_size=0.3)\n",
    "\n",
    "pg_train = pg_train.dropna()\n",
    "pg_test = pg_test.dropna()"
   ]
  },
  {
   "cell_type": "code",
   "execution_count": 4,
   "metadata": {},
   "outputs": [
    {
     "data": {
      "text/plain": [
       "DecisionTreeClassifier(max_depth=3)"
      ]
     },
     "execution_count": 4,
     "metadata": {},
     "output_type": "execute_result"
    }
   ],
   "source": [
    "features = [\"bill_length_mm\", \"bill_depth_mm\"]\n",
    "dt = DecisionTreeClassifier(max_depth=3)\n",
    "dt.fit(pg_train[features], pg_train[\"species\"])"
   ]
  },
  {
   "cell_type": "code",
   "execution_count": 5,
   "metadata": {},
   "outputs": [],
   "source": [
    "def plot_tree_classification(model, features, class_names):\n",
    "    dot_data = tree.export_graphviz(model, out_file=None,\n",
    "                                   feature_names = features,\n",
    "                                   class_names= class_names,\n",
    "                                   filled=True, rounded = True,\n",
    "                                   special_characters = True)\n",
    "    graph = graphviz.Source(dot_data)\n",
    "    graph.render(\"decision_tree\")\n",
    "    return graph"
   ]
  },
  {
   "cell_type": "code",
   "execution_count": 6,
   "metadata": {},
   "outputs": [
    {
     "data": {
      "image/svg+xml": [
       "<?xml version=\"1.0\" encoding=\"UTF-8\" standalone=\"no\"?>\r\n",
       "<!DOCTYPE svg PUBLIC \"-//W3C//DTD SVG 1.1//EN\"\r\n",
       " \"http://www.w3.org/Graphics/SVG/1.1/DTD/svg11.dtd\">\r\n",
       "<!-- Generated by graphviz version 2.38.0 (20140413.2041)\r\n",
       " -->\r\n",
       "<!-- Title: Tree Pages: 1 -->\r\n",
       "<svg width=\"674pt\" height=\"433pt\"\r\n",
       " viewBox=\"0.00 0.00 674.00 433.00\" xmlns=\"http://www.w3.org/2000/svg\" xmlns:xlink=\"http://www.w3.org/1999/xlink\">\r\n",
       "<g id=\"graph0\" class=\"graph\" transform=\"scale(1 1) rotate(0) translate(4 429)\">\r\n",
       "<title>Tree</title>\r\n",
       "<polygon fill=\"white\" stroke=\"none\" points=\"-4,4 -4,-429 670,-429 670,4 -4,4\"/>\r\n",
       "<!-- 0 -->\r\n",
       "<g id=\"node1\" class=\"node\"><title>0</title>\r\n",
       "<path fill=\"#fcf0e7\" stroke=\"black\" d=\"M366.5,-425C366.5,-425 226.5,-425 226.5,-425 220.5,-425 214.5,-419 214.5,-413 214.5,-413 214.5,-354 214.5,-354 214.5,-348 220.5,-342 226.5,-342 226.5,-342 366.5,-342 366.5,-342 372.5,-342 378.5,-348 378.5,-354 378.5,-354 378.5,-413 378.5,-413 378.5,-419 372.5,-425 366.5,-425\"/>\r\n",
       "<text text-anchor=\"start\" x=\"222.5\" y=\"-409.8\" font-family=\"Helvetica,sans-Serif\" font-size=\"14.00\">bill_length_mm ≤ 42.35</text>\r\n",
       "<text text-anchor=\"start\" x=\"259\" y=\"-394.8\" font-family=\"Helvetica,sans-Serif\" font-size=\"14.00\">gini = 0.635</text>\r\n",
       "<text text-anchor=\"start\" x=\"249\" y=\"-379.8\" font-family=\"Helvetica,sans-Serif\" font-size=\"14.00\">samples = 231</text>\r\n",
       "<text text-anchor=\"start\" x=\"231.5\" y=\"-364.8\" font-family=\"Helvetica,sans-Serif\" font-size=\"14.00\">value = [102, 45, 84]</text>\r\n",
       "<text text-anchor=\"start\" x=\"251.5\" y=\"-349.8\" font-family=\"Helvetica,sans-Serif\" font-size=\"14.00\">class = Adelie</text>\r\n",
       "</g>\r\n",
       "<!-- 1 -->\r\n",
       "<g id=\"node2\" class=\"node\"><title>1</title>\r\n",
       "<path fill=\"#e6843d\" stroke=\"black\" d=\"M273.5,-306C273.5,-306 143.5,-306 143.5,-306 137.5,-306 131.5,-300 131.5,-294 131.5,-294 131.5,-235 131.5,-235 131.5,-229 137.5,-223 143.5,-223 143.5,-223 273.5,-223 273.5,-223 279.5,-223 285.5,-229 285.5,-235 285.5,-235 285.5,-294 285.5,-294 285.5,-300 279.5,-306 273.5,-306\"/>\r\n",
       "<text text-anchor=\"start\" x=\"139.5\" y=\"-290.8\" font-family=\"Helvetica,sans-Serif\" font-size=\"14.00\">bill_depth_mm ≤ 15.1</text>\r\n",
       "<text text-anchor=\"start\" x=\"171\" y=\"-275.8\" font-family=\"Helvetica,sans-Serif\" font-size=\"14.00\">gini = 0.039</text>\r\n",
       "<text text-anchor=\"start\" x=\"161\" y=\"-260.8\" font-family=\"Helvetica,sans-Serif\" font-size=\"14.00\">samples = 100</text>\r\n",
       "<text text-anchor=\"start\" x=\"156\" y=\"-245.8\" font-family=\"Helvetica,sans-Serif\" font-size=\"14.00\">value = [98, 1, 1]</text>\r\n",
       "<text text-anchor=\"start\" x=\"163.5\" y=\"-230.8\" font-family=\"Helvetica,sans-Serif\" font-size=\"14.00\">class = Adelie</text>\r\n",
       "</g>\r\n",
       "<!-- 0&#45;&gt;1 -->\r\n",
       "<g id=\"edge1\" class=\"edge\"><title>0&#45;&gt;1</title>\r\n",
       "<path fill=\"none\" stroke=\"black\" d=\"M265.969,-341.907C259.211,-332.923 251.985,-323.315 245.016,-314.05\"/>\r\n",
       "<polygon fill=\"black\" stroke=\"black\" points=\"247.785,-311.909 238.977,-306.021 242.191,-316.116 247.785,-311.909\"/>\r\n",
       "<text text-anchor=\"middle\" x=\"235.475\" y=\"-327.074\" font-family=\"Helvetica,sans-Serif\" font-size=\"14.00\">True</text>\r\n",
       "</g>\r\n",
       "<!-- 6 -->\r\n",
       "<g id=\"node7\" class=\"node\"><title>6</title>\r\n",
       "<path fill=\"#c7a6f3\" stroke=\"black\" d=\"M453.5,-306C453.5,-306 315.5,-306 315.5,-306 309.5,-306 303.5,-300 303.5,-294 303.5,-294 303.5,-235 303.5,-235 303.5,-229 309.5,-223 315.5,-223 315.5,-223 453.5,-223 453.5,-223 459.5,-223 465.5,-229 465.5,-235 465.5,-235 465.5,-294 465.5,-294 465.5,-300 459.5,-306 453.5,-306\"/>\r\n",
       "<text text-anchor=\"start\" x=\"311.5\" y=\"-290.8\" font-family=\"Helvetica,sans-Serif\" font-size=\"14.00\">bill_depth_mm ≤ 16.35</text>\r\n",
       "<text text-anchor=\"start\" x=\"347\" y=\"-275.8\" font-family=\"Helvetica,sans-Serif\" font-size=\"14.00\">gini = 0.485</text>\r\n",
       "<text text-anchor=\"start\" x=\"337\" y=\"-260.8\" font-family=\"Helvetica,sans-Serif\" font-size=\"14.00\">samples = 131</text>\r\n",
       "<text text-anchor=\"start\" x=\"328\" y=\"-245.8\" font-family=\"Helvetica,sans-Serif\" font-size=\"14.00\">value = [4, 44, 83]</text>\r\n",
       "<text text-anchor=\"start\" x=\"336\" y=\"-230.8\" font-family=\"Helvetica,sans-Serif\" font-size=\"14.00\">class = Gentoo</text>\r\n",
       "</g>\r\n",
       "<!-- 0&#45;&gt;6 -->\r\n",
       "<g id=\"edge6\" class=\"edge\"><title>0&#45;&gt;6</title>\r\n",
       "<path fill=\"none\" stroke=\"black\" d=\"M327.031,-341.907C333.789,-332.923 341.015,-323.315 347.984,-314.05\"/>\r\n",
       "<polygon fill=\"black\" stroke=\"black\" points=\"350.809,-316.116 354.023,-306.021 345.215,-311.909 350.809,-316.116\"/>\r\n",
       "<text text-anchor=\"middle\" x=\"357.525\" y=\"-327.074\" font-family=\"Helvetica,sans-Serif\" font-size=\"14.00\">False</text>\r\n",
       "</g>\r\n",
       "<!-- 2 -->\r\n",
       "<g id=\"node3\" class=\"node\"><title>2</title>\r\n",
       "<path fill=\"#8139e5\" stroke=\"black\" d=\"M101,-179.5C101,-179.5 12,-179.5 12,-179.5 6,-179.5 0,-173.5 0,-167.5 0,-167.5 0,-123.5 0,-123.5 0,-117.5 6,-111.5 12,-111.5 12,-111.5 101,-111.5 101,-111.5 107,-111.5 113,-117.5 113,-123.5 113,-123.5 113,-167.5 113,-167.5 113,-173.5 107,-179.5 101,-179.5\"/>\r\n",
       "<text text-anchor=\"start\" x=\"27.5\" y=\"-164.3\" font-family=\"Helvetica,sans-Serif\" font-size=\"14.00\">gini = 0.0</text>\r\n",
       "<text text-anchor=\"start\" x=\"17\" y=\"-149.3\" font-family=\"Helvetica,sans-Serif\" font-size=\"14.00\">samples = 1</text>\r\n",
       "<text text-anchor=\"start\" x=\"8\" y=\"-134.3\" font-family=\"Helvetica,sans-Serif\" font-size=\"14.00\">value = [0, 0, 1]</text>\r\n",
       "<text text-anchor=\"start\" x=\"8\" y=\"-119.3\" font-family=\"Helvetica,sans-Serif\" font-size=\"14.00\">class = Gentoo</text>\r\n",
       "</g>\r\n",
       "<!-- 1&#45;&gt;2 -->\r\n",
       "<g id=\"edge2\" class=\"edge\"><title>1&#45;&gt;2</title>\r\n",
       "<path fill=\"none\" stroke=\"black\" d=\"M155.764,-222.907C140.139,-210.88 123.061,-197.735 107.545,-185.791\"/>\r\n",
       "<polygon fill=\"black\" stroke=\"black\" points=\"109.648,-182.993 99.5887,-179.667 105.378,-188.54 109.648,-182.993\"/>\r\n",
       "</g>\r\n",
       "<!-- 3 -->\r\n",
       "<g id=\"node4\" class=\"node\"><title>3</title>\r\n",
       "<path fill=\"#e5823b\" stroke=\"black\" d=\"M281.5,-187C281.5,-187 143.5,-187 143.5,-187 137.5,-187 131.5,-181 131.5,-175 131.5,-175 131.5,-116 131.5,-116 131.5,-110 137.5,-104 143.5,-104 143.5,-104 281.5,-104 281.5,-104 287.5,-104 293.5,-110 293.5,-116 293.5,-116 293.5,-175 293.5,-175 293.5,-181 287.5,-187 281.5,-187\"/>\r\n",
       "<text text-anchor=\"start\" x=\"139.5\" y=\"-171.8\" font-family=\"Helvetica,sans-Serif\" font-size=\"14.00\">bill_depth_mm ≤ 16.65</text>\r\n",
       "<text text-anchor=\"start\" x=\"179\" y=\"-156.8\" font-family=\"Helvetica,sans-Serif\" font-size=\"14.00\">gini = 0.02</text>\r\n",
       "<text text-anchor=\"start\" x=\"169\" y=\"-141.8\" font-family=\"Helvetica,sans-Serif\" font-size=\"14.00\">samples = 99</text>\r\n",
       "<text text-anchor=\"start\" x=\"160\" y=\"-126.8\" font-family=\"Helvetica,sans-Serif\" font-size=\"14.00\">value = [98, 1, 0]</text>\r\n",
       "<text text-anchor=\"start\" x=\"167.5\" y=\"-111.8\" font-family=\"Helvetica,sans-Serif\" font-size=\"14.00\">class = Adelie</text>\r\n",
       "</g>\r\n",
       "<!-- 1&#45;&gt;3 -->\r\n",
       "<g id=\"edge3\" class=\"edge\"><title>1&#45;&gt;3</title>\r\n",
       "<path fill=\"none\" stroke=\"black\" d=\"M209.888,-222.907C210.173,-214.558 210.477,-205.671 210.773,-197.02\"/>\r\n",
       "<polygon fill=\"black\" stroke=\"black\" points=\"214.271,-197.135 211.115,-187.021 207.275,-196.895 214.271,-197.135\"/>\r\n",
       "</g>\r\n",
       "<!-- 4 -->\r\n",
       "<g id=\"node5\" class=\"node\"><title>4</title>\r\n",
       "<path fill=\"#e88e4d\" stroke=\"black\" d=\"M177,-68C177,-68 80,-68 80,-68 74,-68 68,-62 68,-56 68,-56 68,-12 68,-12 68,-6 74,-0 80,-0 80,-0 177,-0 177,-0 183,-0 189,-6 189,-12 189,-12 189,-56 189,-56 189,-62 183,-68 177,-68\"/>\r\n",
       "<text text-anchor=\"start\" x=\"91\" y=\"-52.8\" font-family=\"Helvetica,sans-Serif\" font-size=\"14.00\">gini = 0.165</text>\r\n",
       "<text text-anchor=\"start\" x=\"85\" y=\"-37.8\" font-family=\"Helvetica,sans-Serif\" font-size=\"14.00\">samples = 11</text>\r\n",
       "<text text-anchor=\"start\" x=\"76\" y=\"-22.8\" font-family=\"Helvetica,sans-Serif\" font-size=\"14.00\">value = [10, 1, 0]</text>\r\n",
       "<text text-anchor=\"start\" x=\"83.5\" y=\"-7.8\" font-family=\"Helvetica,sans-Serif\" font-size=\"14.00\">class = Adelie</text>\r\n",
       "</g>\r\n",
       "<!-- 3&#45;&gt;4 -->\r\n",
       "<g id=\"edge4\" class=\"edge\"><title>3&#45;&gt;4</title>\r\n",
       "<path fill=\"none\" stroke=\"black\" d=\"M181.222,-103.726C174.365,-94.7878 167.099,-85.3168 160.225,-76.3558\"/>\r\n",
       "<polygon fill=\"black\" stroke=\"black\" points=\"162.909,-74.1036 154.045,-68.2996 157.355,-78.3643 162.909,-74.1036\"/>\r\n",
       "</g>\r\n",
       "<!-- 5 -->\r\n",
       "<g id=\"node6\" class=\"node\"><title>5</title>\r\n",
       "<path fill=\"#e58139\" stroke=\"black\" d=\"M316,-68C316,-68 219,-68 219,-68 213,-68 207,-62 207,-56 207,-56 207,-12 207,-12 207,-6 213,-0 219,-0 219,-0 316,-0 316,-0 322,-0 328,-6 328,-12 328,-12 328,-56 328,-56 328,-62 322,-68 316,-68\"/>\r\n",
       "<text text-anchor=\"start\" x=\"238.5\" y=\"-52.8\" font-family=\"Helvetica,sans-Serif\" font-size=\"14.00\">gini = 0.0</text>\r\n",
       "<text text-anchor=\"start\" x=\"224\" y=\"-37.8\" font-family=\"Helvetica,sans-Serif\" font-size=\"14.00\">samples = 88</text>\r\n",
       "<text text-anchor=\"start\" x=\"215\" y=\"-22.8\" font-family=\"Helvetica,sans-Serif\" font-size=\"14.00\">value = [88, 0, 0]</text>\r\n",
       "<text text-anchor=\"start\" x=\"222.5\" y=\"-7.8\" font-family=\"Helvetica,sans-Serif\" font-size=\"14.00\">class = Adelie</text>\r\n",
       "</g>\r\n",
       "<!-- 3&#45;&gt;5 -->\r\n",
       "<g id=\"edge5\" class=\"edge\"><title>3&#45;&gt;5</title>\r\n",
       "<path fill=\"none\" stroke=\"black\" d=\"M232.98,-103.726C237.286,-95.1527 241.839,-86.0891 246.175,-77.4555\"/>\r\n",
       "<polygon fill=\"black\" stroke=\"black\" points=\"249.413,-78.8067 250.774,-68.2996 243.158,-75.6647 249.413,-78.8067\"/>\r\n",
       "</g>\r\n",
       "<!-- 7 -->\r\n",
       "<g id=\"node8\" class=\"node\"><title>7</title>\r\n",
       "<path fill=\"#8139e5\" stroke=\"black\" d=\"M429,-179.5C429,-179.5 332,-179.5 332,-179.5 326,-179.5 320,-173.5 320,-167.5 320,-167.5 320,-123.5 320,-123.5 320,-117.5 326,-111.5 332,-111.5 332,-111.5 429,-111.5 429,-111.5 435,-111.5 441,-117.5 441,-123.5 441,-123.5 441,-167.5 441,-167.5 441,-173.5 435,-179.5 429,-179.5\"/>\r\n",
       "<text text-anchor=\"start\" x=\"351.5\" y=\"-164.3\" font-family=\"Helvetica,sans-Serif\" font-size=\"14.00\">gini = 0.0</text>\r\n",
       "<text text-anchor=\"start\" x=\"337\" y=\"-149.3\" font-family=\"Helvetica,sans-Serif\" font-size=\"14.00\">samples = 79</text>\r\n",
       "<text text-anchor=\"start\" x=\"328\" y=\"-134.3\" font-family=\"Helvetica,sans-Serif\" font-size=\"14.00\">value = [0, 0, 79]</text>\r\n",
       "<text text-anchor=\"start\" x=\"332\" y=\"-119.3\" font-family=\"Helvetica,sans-Serif\" font-size=\"14.00\">class = Gentoo</text>\r\n",
       "</g>\r\n",
       "<!-- 6&#45;&gt;7 -->\r\n",
       "<g id=\"edge7\" class=\"edge\"><title>6&#45;&gt;7</title>\r\n",
       "<path fill=\"none\" stroke=\"black\" d=\"M383.112,-222.907C382.746,-212.204 382.35,-200.615 381.98,-189.776\"/>\r\n",
       "<polygon fill=\"black\" stroke=\"black\" points=\"385.474,-189.541 381.634,-179.667 378.478,-189.781 385.474,-189.541\"/>\r\n",
       "</g>\r\n",
       "<!-- 8 -->\r\n",
       "<g id=\"node9\" class=\"node\"><title>8</title>\r\n",
       "<path fill=\"#5ae996\" stroke=\"black\" d=\"M611.5,-187C611.5,-187 471.5,-187 471.5,-187 465.5,-187 459.5,-181 459.5,-175 459.5,-175 459.5,-116 459.5,-116 459.5,-110 465.5,-104 471.5,-104 471.5,-104 611.5,-104 611.5,-104 617.5,-104 623.5,-110 623.5,-116 623.5,-116 623.5,-175 623.5,-175 623.5,-181 617.5,-187 611.5,-187\"/>\r\n",
       "<text text-anchor=\"start\" x=\"467.5\" y=\"-171.8\" font-family=\"Helvetica,sans-Serif\" font-size=\"14.00\">bill_length_mm ≤ 55.05</text>\r\n",
       "<text text-anchor=\"start\" x=\"504\" y=\"-156.8\" font-family=\"Helvetica,sans-Serif\" font-size=\"14.00\">gini = 0.272</text>\r\n",
       "<text text-anchor=\"start\" x=\"498\" y=\"-141.8\" font-family=\"Helvetica,sans-Serif\" font-size=\"14.00\">samples = 52</text>\r\n",
       "<text text-anchor=\"start\" x=\"489\" y=\"-126.8\" font-family=\"Helvetica,sans-Serif\" font-size=\"14.00\">value = [4, 44, 4]</text>\r\n",
       "<text text-anchor=\"start\" x=\"487\" y=\"-111.8\" font-family=\"Helvetica,sans-Serif\" font-size=\"14.00\">class = Chinstrap</text>\r\n",
       "</g>\r\n",
       "<!-- 6&#45;&gt;8 -->\r\n",
       "<g id=\"edge8\" class=\"edge\"><title>6&#45;&gt;8</title>\r\n",
       "<path fill=\"none\" stroke=\"black\" d=\"M438.97,-222.907C451.879,-213.288 465.746,-202.953 478.981,-193.09\"/>\r\n",
       "<polygon fill=\"black\" stroke=\"black\" points=\"481.199,-195.803 487.126,-187.021 477.016,-190.19 481.199,-195.803\"/>\r\n",
       "</g>\r\n",
       "<!-- 9 -->\r\n",
       "<g id=\"node10\" class=\"node\"><title>9</title>\r\n",
       "<path fill=\"#53e892\" stroke=\"black\" d=\"M523,-68C523,-68 422,-68 422,-68 416,-68 410,-62 410,-56 410,-56 410,-12 410,-12 410,-6 416,-0 422,-0 422,-0 523,-0 523,-0 529,-0 535,-6 535,-12 535,-12 535,-56 535,-56 535,-62 529,-68 523,-68\"/>\r\n",
       "<text text-anchor=\"start\" x=\"435\" y=\"-52.8\" font-family=\"Helvetica,sans-Serif\" font-size=\"14.00\">gini = 0.222</text>\r\n",
       "<text text-anchor=\"start\" x=\"429\" y=\"-37.8\" font-family=\"Helvetica,sans-Serif\" font-size=\"14.00\">samples = 49</text>\r\n",
       "<text text-anchor=\"start\" x=\"420\" y=\"-22.8\" font-family=\"Helvetica,sans-Serif\" font-size=\"14.00\">value = [4, 43, 2]</text>\r\n",
       "<text text-anchor=\"start\" x=\"418\" y=\"-7.8\" font-family=\"Helvetica,sans-Serif\" font-size=\"14.00\">class = Chinstrap</text>\r\n",
       "</g>\r\n",
       "<!-- 8&#45;&gt;9 -->\r\n",
       "<g id=\"edge9\" class=\"edge\"><title>8&#45;&gt;9</title>\r\n",
       "<path fill=\"none\" stroke=\"black\" d=\"M515.807,-103.726C510.289,-94.9703 504.45,-85.7032 498.906,-76.9051\"/>\r\n",
       "<polygon fill=\"black\" stroke=\"black\" points=\"501.776,-74.8941 493.483,-68.2996 495.853,-78.6259 501.776,-74.8941\"/>\r\n",
       "</g>\r\n",
       "<!-- 10 -->\r\n",
       "<g id=\"node11\" class=\"node\"><title>10</title>\r\n",
       "<path fill=\"#c09cf2\" stroke=\"black\" d=\"M654,-68C654,-68 565,-68 565,-68 559,-68 553,-62 553,-56 553,-56 553,-12 553,-12 553,-6 559,-0 565,-0 565,-0 654,-0 654,-0 660,-0 666,-6 666,-12 666,-12 666,-56 666,-56 666,-62 660,-68 654,-68\"/>\r\n",
       "<text text-anchor=\"start\" x=\"572\" y=\"-52.8\" font-family=\"Helvetica,sans-Serif\" font-size=\"14.00\">gini = 0.444</text>\r\n",
       "<text text-anchor=\"start\" x=\"570\" y=\"-37.8\" font-family=\"Helvetica,sans-Serif\" font-size=\"14.00\">samples = 3</text>\r\n",
       "<text text-anchor=\"start\" x=\"561\" y=\"-22.8\" font-family=\"Helvetica,sans-Serif\" font-size=\"14.00\">value = [0, 1, 2]</text>\r\n",
       "<text text-anchor=\"start\" x=\"561\" y=\"-7.8\" font-family=\"Helvetica,sans-Serif\" font-size=\"14.00\">class = Gentoo</text>\r\n",
       "</g>\r\n",
       "<!-- 8&#45;&gt;10 -->\r\n",
       "<g id=\"edge10\" class=\"edge\"><title>8&#45;&gt;10</title>\r\n",
       "<path fill=\"none\" stroke=\"black\" d=\"M566.821,-103.726C572.258,-94.9703 578.013,-85.7032 583.477,-76.9051\"/>\r\n",
       "<polygon fill=\"black\" stroke=\"black\" points=\"586.519,-78.6413 588.821,-68.2996 580.572,-74.9484 586.519,-78.6413\"/>\r\n",
       "</g>\r\n",
       "</g>\r\n",
       "</svg>\r\n"
      ],
      "text/plain": [
       "<graphviz.files.Source at 0x2a05d26f6d0>"
      ]
     },
     "execution_count": 6,
     "metadata": {},
     "output_type": "execute_result"
    }
   ],
   "source": [
    "plot_tree_classification(dt, features, pg_train.species.unique())"
   ]
  },
  {
   "cell_type": "code",
   "execution_count": 7,
   "metadata": {},
   "outputs": [],
   "source": [
    " def calculate_accuracy(predictions, actuals):\n",
    "    if(len(predictions) != len(actuals)):\n",
    "        raise Exeption(\"The amount of predictions did not equal the amount of actuals\")\n",
    "        \n",
    "    return (predictions == actuals).sum() / len(actuals)"
   ]
  },
  {
   "cell_type": "code",
   "execution_count": 8,
   "metadata": {},
   "outputs": [
    {
     "data": {
      "text/plain": [
       "0.9653679653679653"
      ]
     },
     "execution_count": 8,
     "metadata": {},
     "output_type": "execute_result"
    }
   ],
   "source": [
    "predictions = dt.predict(pg_train[features])\n",
    "calculate_accuracy(predictions, pg_train.species)"
   ]
  },
  {
   "cell_type": "code",
   "execution_count": 9,
   "metadata": {},
   "outputs": [
    {
     "data": {
      "text/plain": [
       "0.8627450980392157"
      ]
     },
     "execution_count": 9,
     "metadata": {},
     "output_type": "execute_result"
    }
   ],
   "source": [
    "predictions = dt.predict(pg_test[features])\n",
    "calculate_accuracy(predictions, pg_test.species)"
   ]
  },
  {
   "cell_type": "markdown",
   "metadata": {},
   "source": [
    "Er is hieronder te zien dat er een verschil van 0.03 is, ofwel 3%. \n",
    "Ik had dit verschil verwacht, omdat er 30% gebruikt wordt ipv 70% van de data, dus heeft het niet zo veel data om te trainen"
   ]
  }
 ],
 "metadata": {
  "kernelspec": {
   "display_name": "Python 3",
   "language": "python",
   "name": "python3"
  },
  "language_info": {
   "codemirror_mode": {
    "name": "ipython",
    "version": 3
   },
   "file_extension": ".py",
   "mimetype": "text/x-python",
   "name": "python",
   "nbconvert_exporter": "python",
   "pygments_lexer": "ipython3",
   "version": "3.8.5"
  }
 },
 "nbformat": 4,
 "nbformat_minor": 4
}
