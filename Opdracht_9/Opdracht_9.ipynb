{
 "cells": [
  {
   "cell_type": "markdown",
   "metadata": {},
   "source": [
    "# Portofolio assignment 9\n",
    "\n",
    "Perform a bivariate analysis on the columns with numerical data in the penguins dataset.\n",
    "\n",
    "- Use corr() on the DataFrame to calculate all the correlations. Use the code example above to show the correlation table with colors.\n",
    "- Look at the correlations. Do they match your expectations?\n",
    "- Show a scatter plot for\n",
    "    - The strongest positive correlation\n",
    "    - The strongest negative correlation\n",
    "    - The weakest correlation"
   ]
  },
  {
   "cell_type": "code",
   "execution_count": 1,
   "metadata": {},
   "outputs": [],
   "source": [
    "import seaborn as sns\n",
    "from matplotlib import pyplot as pl"
   ]
  },
  {
   "cell_type": "code",
   "execution_count": 2,
   "metadata": {},
   "outputs": [],
   "source": [
    "penguins = sns.load_dataset(\"penguins\")"
   ]
  },
  {
   "cell_type": "code",
   "execution_count": 3,
   "metadata": {},
   "outputs": [
    {
     "data": {
      "text/html": [
       "<div>\n",
       "<style scoped>\n",
       "    .dataframe tbody tr th:only-of-type {\n",
       "        vertical-align: middle;\n",
       "    }\n",
       "\n",
       "    .dataframe tbody tr th {\n",
       "        vertical-align: top;\n",
       "    }\n",
       "\n",
       "    .dataframe thead th {\n",
       "        text-align: right;\n",
       "    }\n",
       "</style>\n",
       "<table border=\"1\" class=\"dataframe\">\n",
       "  <thead>\n",
       "    <tr style=\"text-align: right;\">\n",
       "      <th></th>\n",
       "      <th>species</th>\n",
       "      <th>island</th>\n",
       "      <th>bill_length_mm</th>\n",
       "      <th>bill_depth_mm</th>\n",
       "      <th>flipper_length_mm</th>\n",
       "      <th>body_mass_g</th>\n",
       "      <th>sex</th>\n",
       "    </tr>\n",
       "  </thead>\n",
       "  <tbody>\n",
       "    <tr>\n",
       "      <th>0</th>\n",
       "      <td>Adelie</td>\n",
       "      <td>Torgersen</td>\n",
       "      <td>39.1</td>\n",
       "      <td>18.7</td>\n",
       "      <td>181.0</td>\n",
       "      <td>3750.0</td>\n",
       "      <td>Male</td>\n",
       "    </tr>\n",
       "    <tr>\n",
       "      <th>1</th>\n",
       "      <td>Adelie</td>\n",
       "      <td>Torgersen</td>\n",
       "      <td>39.5</td>\n",
       "      <td>17.4</td>\n",
       "      <td>186.0</td>\n",
       "      <td>3800.0</td>\n",
       "      <td>Female</td>\n",
       "    </tr>\n",
       "    <tr>\n",
       "      <th>2</th>\n",
       "      <td>Adelie</td>\n",
       "      <td>Torgersen</td>\n",
       "      <td>40.3</td>\n",
       "      <td>18.0</td>\n",
       "      <td>195.0</td>\n",
       "      <td>3250.0</td>\n",
       "      <td>Female</td>\n",
       "    </tr>\n",
       "    <tr>\n",
       "      <th>3</th>\n",
       "      <td>Adelie</td>\n",
       "      <td>Torgersen</td>\n",
       "      <td>NaN</td>\n",
       "      <td>NaN</td>\n",
       "      <td>NaN</td>\n",
       "      <td>NaN</td>\n",
       "      <td>NaN</td>\n",
       "    </tr>\n",
       "    <tr>\n",
       "      <th>4</th>\n",
       "      <td>Adelie</td>\n",
       "      <td>Torgersen</td>\n",
       "      <td>36.7</td>\n",
       "      <td>19.3</td>\n",
       "      <td>193.0</td>\n",
       "      <td>3450.0</td>\n",
       "      <td>Female</td>\n",
       "    </tr>\n",
       "  </tbody>\n",
       "</table>\n",
       "</div>"
      ],
      "text/plain": [
       "  species     island  bill_length_mm  bill_depth_mm  flipper_length_mm  \\\n",
       "0  Adelie  Torgersen            39.1           18.7              181.0   \n",
       "1  Adelie  Torgersen            39.5           17.4              186.0   \n",
       "2  Adelie  Torgersen            40.3           18.0              195.0   \n",
       "3  Adelie  Torgersen             NaN            NaN                NaN   \n",
       "4  Adelie  Torgersen            36.7           19.3              193.0   \n",
       "\n",
       "   body_mass_g     sex  \n",
       "0       3750.0    Male  \n",
       "1       3800.0  Female  \n",
       "2       3250.0  Female  \n",
       "3          NaN     NaN  \n",
       "4       3450.0  Female  "
      ]
     },
     "execution_count": 3,
     "metadata": {},
     "output_type": "execute_result"
    }
   ],
   "source": [
    "penguins.head()"
   ]
  },
  {
   "cell_type": "code",
   "execution_count": 4,
   "metadata": {},
   "outputs": [
    {
     "data": {
      "text/html": [
       "<style  type=\"text/css\" >\n",
       "#T_38478a4a_80c7_11eb_b790_1c1bb576cc61row0_col0,#T_38478a4a_80c7_11eb_b790_1c1bb576cc61row1_col1,#T_38478a4a_80c7_11eb_b790_1c1bb576cc61row2_col2,#T_38478a4a_80c7_11eb_b790_1c1bb576cc61row3_col3{\n",
       "            background-color:  #fee838;\n",
       "            color:  #000000;\n",
       "        }#T_38478a4a_80c7_11eb_b790_1c1bb576cc61row0_col1{\n",
       "            background-color:  #3b496c;\n",
       "            color:  #f1f1f1;\n",
       "        }#T_38478a4a_80c7_11eb_b790_1c1bb576cc61row0_col2{\n",
       "            background-color:  #c4b468;\n",
       "            color:  #000000;\n",
       "        }#T_38478a4a_80c7_11eb_b790_1c1bb576cc61row0_col3{\n",
       "            background-color:  #b5a86f;\n",
       "            color:  #000000;\n",
       "        }#T_38478a4a_80c7_11eb_b790_1c1bb576cc61row1_col0,#T_38478a4a_80c7_11eb_b790_1c1bb576cc61row1_col2,#T_38478a4a_80c7_11eb_b790_1c1bb576cc61row1_col3,#T_38478a4a_80c7_11eb_b790_1c1bb576cc61row2_col1{\n",
       "            background-color:  #00224e;\n",
       "            color:  #f1f1f1;\n",
       "        }#T_38478a4a_80c7_11eb_b790_1c1bb576cc61row2_col0{\n",
       "            background-color:  #b4a76f;\n",
       "            color:  #000000;\n",
       "        }#T_38478a4a_80c7_11eb_b790_1c1bb576cc61row2_col3{\n",
       "            background-color:  #e8d24f;\n",
       "            color:  #000000;\n",
       "        }#T_38478a4a_80c7_11eb_b790_1c1bb576cc61row3_col0{\n",
       "            background-color:  #a79d73;\n",
       "            color:  #000000;\n",
       "        }#T_38478a4a_80c7_11eb_b790_1c1bb576cc61row3_col1{\n",
       "            background-color:  #002f6d;\n",
       "            color:  #f1f1f1;\n",
       "        }#T_38478a4a_80c7_11eb_b790_1c1bb576cc61row3_col2{\n",
       "            background-color:  #ead34c;\n",
       "            color:  #000000;\n",
       "        }</style><table id=\"T_38478a4a_80c7_11eb_b790_1c1bb576cc61\" ><thead>    <tr>        <th class=\"blank level0\" ></th>        <th class=\"col_heading level0 col0\" >bill_length_mm</th>        <th class=\"col_heading level0 col1\" >bill_depth_mm</th>        <th class=\"col_heading level0 col2\" >flipper_length_mm</th>        <th class=\"col_heading level0 col3\" >body_mass_g</th>    </tr></thead><tbody>\n",
       "                <tr>\n",
       "                        <th id=\"T_38478a4a_80c7_11eb_b790_1c1bb576cc61level0_row0\" class=\"row_heading level0 row0\" >bill_length_mm</th>\n",
       "                        <td id=\"T_38478a4a_80c7_11eb_b790_1c1bb576cc61row0_col0\" class=\"data row0 col0\" >1.000000</td>\n",
       "                        <td id=\"T_38478a4a_80c7_11eb_b790_1c1bb576cc61row0_col1\" class=\"data row0 col1\" >-0.235053</td>\n",
       "                        <td id=\"T_38478a4a_80c7_11eb_b790_1c1bb576cc61row0_col2\" class=\"data row0 col2\" >0.656181</td>\n",
       "                        <td id=\"T_38478a4a_80c7_11eb_b790_1c1bb576cc61row0_col3\" class=\"data row0 col3\" >0.595110</td>\n",
       "            </tr>\n",
       "            <tr>\n",
       "                        <th id=\"T_38478a4a_80c7_11eb_b790_1c1bb576cc61level0_row1\" class=\"row_heading level0 row1\" >bill_depth_mm</th>\n",
       "                        <td id=\"T_38478a4a_80c7_11eb_b790_1c1bb576cc61row1_col0\" class=\"data row1 col0\" >-0.235053</td>\n",
       "                        <td id=\"T_38478a4a_80c7_11eb_b790_1c1bb576cc61row1_col1\" class=\"data row1 col1\" >1.000000</td>\n",
       "                        <td id=\"T_38478a4a_80c7_11eb_b790_1c1bb576cc61row1_col2\" class=\"data row1 col2\" >-0.583851</td>\n",
       "                        <td id=\"T_38478a4a_80c7_11eb_b790_1c1bb576cc61row1_col3\" class=\"data row1 col3\" >-0.471916</td>\n",
       "            </tr>\n",
       "            <tr>\n",
       "                        <th id=\"T_38478a4a_80c7_11eb_b790_1c1bb576cc61level0_row2\" class=\"row_heading level0 row2\" >flipper_length_mm</th>\n",
       "                        <td id=\"T_38478a4a_80c7_11eb_b790_1c1bb576cc61row2_col0\" class=\"data row2 col0\" >0.656181</td>\n",
       "                        <td id=\"T_38478a4a_80c7_11eb_b790_1c1bb576cc61row2_col1\" class=\"data row2 col1\" >-0.583851</td>\n",
       "                        <td id=\"T_38478a4a_80c7_11eb_b790_1c1bb576cc61row2_col2\" class=\"data row2 col2\" >1.000000</td>\n",
       "                        <td id=\"T_38478a4a_80c7_11eb_b790_1c1bb576cc61row2_col3\" class=\"data row2 col3\" >0.871202</td>\n",
       "            </tr>\n",
       "            <tr>\n",
       "                        <th id=\"T_38478a4a_80c7_11eb_b790_1c1bb576cc61level0_row3\" class=\"row_heading level0 row3\" >body_mass_g</th>\n",
       "                        <td id=\"T_38478a4a_80c7_11eb_b790_1c1bb576cc61row3_col0\" class=\"data row3 col0\" >0.595110</td>\n",
       "                        <td id=\"T_38478a4a_80c7_11eb_b790_1c1bb576cc61row3_col1\" class=\"data row3 col1\" >-0.471916</td>\n",
       "                        <td id=\"T_38478a4a_80c7_11eb_b790_1c1bb576cc61row3_col2\" class=\"data row3 col2\" >0.871202</td>\n",
       "                        <td id=\"T_38478a4a_80c7_11eb_b790_1c1bb576cc61row3_col3\" class=\"data row3 col3\" >1.000000</td>\n",
       "            </tr>\n",
       "    </tbody></table>"
      ],
      "text/plain": [
       "<pandas.io.formats.style.Styler at 0x16e0bb54280>"
      ]
     },
     "execution_count": 4,
     "metadata": {},
     "output_type": "execute_result"
    }
   ],
   "source": [
    "correlation = penguins.corr()\n",
    "correlation.style.background_gradient(cmap=\"cividis\")"
   ]
  },
  {
   "cell_type": "markdown",
   "metadata": {},
   "source": [
    "## Do they match your expectations?\n",
    "\n",
    "Yes. The larger the flippers, the grander the weight.\n",
    "This is because flippers weigh heavier than other bodyparts of the penguin."
   ]
  },
  {
   "cell_type": "markdown",
   "metadata": {},
   "source": [
    "### Strongest correlation"
   ]
  },
  {
   "cell_type": "code",
   "execution_count": 5,
   "metadata": {},
   "outputs": [
    {
     "data": {
      "text/plain": [
       "<matplotlib.collections.PathCollection at 0x16e0c09d280>"
      ]
     },
     "execution_count": 5,
     "metadata": {},
     "output_type": "execute_result"
    },
    {
     "data": {
      "image/png": "[encoded data removed]",
      "text/plain": [
       "<Figure size 432x288 with 1 Axes>"
      ]
     },
     "metadata": {
      "needs_background": "light"
     },
     "output_type": "display_data"
    }
   ],
   "source": [
    "pl.scatter(penguins.flipper_length_mm, penguins.body_mass_g)"
   ]
  },
  {
   "cell_type": "markdown",
   "metadata": {},
   "source": [
    "### Most negative correlation"
   ]
  },
  {
   "cell_type": "code",
   "execution_count": 6,
   "metadata": {
    "scrolled": true
   },
   "outputs": [
    {
     "data": {
      "text/plain": [
       "<matplotlib.collections.PathCollection at 0x16e0c398640>"
      ]
     },
     "execution_count": 6,
     "metadata": {},
     "output_type": "execute_result"
    },
    {
     "data": {
      "image/png": "[encoded data removed]",
      "text/plain": [
       "<Figure size 432x288 with 1 Axes>"
      ]
     },
     "metadata": {
      "needs_background": "light"
     },
     "output_type": "display_data"
    }
   ],
   "source": [
    "pl.scatter(penguins.flipper_length_mm, penguins.bill_depth_mm)"
   ]
  },
  {
   "cell_type": "markdown",
   "metadata": {},
   "source": [
    "### Weakest correlation"
   ]
  },
  {
   "cell_type": "code",
   "execution_count": 7,
   "metadata": {},
   "outputs": [
    {
     "data": {
      "text/plain": [
       "<matplotlib.collections.PathCollection at 0x16e0c3db250>"
      ]
     },
     "execution_count": 7,
     "metadata": {},
     "output_type": "execute_result"
    },
    {
     "data": {
      "image/png": "[encoded data removed]",
      "text/plain": [
       "<Figure size 432x288 with 1 Axes>"
      ]
     },
     "metadata": {
      "needs_background": "light"
     },
     "output_type": "display_data"
    }
   ],
   "source": [
    "pl.scatter(penguins.bill_length_mm, penguins.bill_depth_mm)"
   ]
  }
 ],
 "metadata": {
  "kernelspec": {
   "display_name": "Python 3",
   "language": "python",
   "name": "python3"
  },
  "language_info": {
   "codemirror_mode": {
    "name": "ipython",
    "version": 3
   },
   "file_extension": ".py",
   "mimetype": "text/x-python",
   "name": "python",
   "nbconvert_exporter": "python",
   "pygments_lexer": "ipython3",
   "version": "3.8.5"
  }
 },
 "nbformat": 4,
 "nbformat_minor": 4
}
