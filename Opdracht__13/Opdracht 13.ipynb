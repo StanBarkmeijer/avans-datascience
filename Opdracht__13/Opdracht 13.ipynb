{
 "cells": [
  {
   "cell_type": "markdown",
   "metadata": {},
   "source": [
    "# Opdracht 13\n",
    "\n",
    "Do a bivariate analysis on the penguins dataset for the following combinations of columns\n",
    "\n",
    "- species VS sex\n",
    "- island VS sex\n",
    "\n",
    "For this bivariate analysis, at least perform the following tasks:\n",
    "\n",
    "- Do you expect there to be a correlation between the two columns?\n",
    "- Create a contigency table. Do you observe different ratios between categories here?\n",
    "- Create a bar plot for this contigency table. Do you observe different ratios between categories here?\n",
    "- Do a chi-squared test. What does the result say? What's the change of there being a correlation between the two columns?"
   ]
  },
  {
   "cell_type": "code",
   "execution_count": 1,
   "metadata": {},
   "outputs": [],
   "source": [
    "import seaborn as sns\n",
    "import pandas as pd\n",
    "import numpy as np\n",
    "\n",
    "from scipy.stats import chi2_contingency\n",
    "from matplotlib import pyplot as plt"
   ]
  },
  {
   "cell_type": "code",
   "execution_count": 2,
   "metadata": {},
   "outputs": [
    {
     "data": {
      "text/html": [
       "<div>\n",
       "<style scoped>\n",
       "    .dataframe tbody tr th:only-of-type {\n",
       "        vertical-align: middle;\n",
       "    }\n",
       "\n",
       "    .dataframe tbody tr th {\n",
       "        vertical-align: top;\n",
       "    }\n",
       "\n",
       "    .dataframe thead th {\n",
       "        text-align: right;\n",
       "    }\n",
       "</style>\n",
       "<table border=\"1\" class=\"dataframe\">\n",
       "  <thead>\n",
       "    <tr style=\"text-align: right;\">\n",
       "      <th></th>\n",
       "      <th>species</th>\n",
       "      <th>island</th>\n",
       "      <th>bill_length_mm</th>\n",
       "      <th>bill_depth_mm</th>\n",
       "      <th>flipper_length_mm</th>\n",
       "      <th>body_mass_g</th>\n",
       "      <th>sex</th>\n",
       "    </tr>\n",
       "  </thead>\n",
       "  <tbody>\n",
       "    <tr>\n",
       "      <th>0</th>\n",
       "      <td>Adelie</td>\n",
       "      <td>Torgersen</td>\n",
       "      <td>39.1</td>\n",
       "      <td>18.7</td>\n",
       "      <td>181.0</td>\n",
       "      <td>3750.0</td>\n",
       "      <td>Male</td>\n",
       "    </tr>\n",
       "    <tr>\n",
       "      <th>1</th>\n",
       "      <td>Adelie</td>\n",
       "      <td>Torgersen</td>\n",
       "      <td>39.5</td>\n",
       "      <td>17.4</td>\n",
       "      <td>186.0</td>\n",
       "      <td>3800.0</td>\n",
       "      <td>Female</td>\n",
       "    </tr>\n",
       "    <tr>\n",
       "      <th>2</th>\n",
       "      <td>Adelie</td>\n",
       "      <td>Torgersen</td>\n",
       "      <td>40.3</td>\n",
       "      <td>18.0</td>\n",
       "      <td>195.0</td>\n",
       "      <td>3250.0</td>\n",
       "      <td>Female</td>\n",
       "    </tr>\n",
       "    <tr>\n",
       "      <th>3</th>\n",
       "      <td>Adelie</td>\n",
       "      <td>Torgersen</td>\n",
       "      <td>NaN</td>\n",
       "      <td>NaN</td>\n",
       "      <td>NaN</td>\n",
       "      <td>NaN</td>\n",
       "      <td>NaN</td>\n",
       "    </tr>\n",
       "    <tr>\n",
       "      <th>4</th>\n",
       "      <td>Adelie</td>\n",
       "      <td>Torgersen</td>\n",
       "      <td>36.7</td>\n",
       "      <td>19.3</td>\n",
       "      <td>193.0</td>\n",
       "      <td>3450.0</td>\n",
       "      <td>Female</td>\n",
       "    </tr>\n",
       "  </tbody>\n",
       "</table>\n",
       "</div>"
      ],
      "text/plain": [
       "  species     island  bill_length_mm  bill_depth_mm  flipper_length_mm  \\\n",
       "0  Adelie  Torgersen            39.1           18.7              181.0   \n",
       "1  Adelie  Torgersen            39.5           17.4              186.0   \n",
       "2  Adelie  Torgersen            40.3           18.0              195.0   \n",
       "3  Adelie  Torgersen             NaN            NaN                NaN   \n",
       "4  Adelie  Torgersen            36.7           19.3              193.0   \n",
       "\n",
       "   body_mass_g     sex  \n",
       "0       3750.0    Male  \n",
       "1       3800.0  Female  \n",
       "2       3250.0  Female  \n",
       "3          NaN     NaN  \n",
       "4       3450.0  Female  "
      ]
     },
     "execution_count": 2,
     "metadata": {},
     "output_type": "execute_result"
    }
   ],
   "source": [
    "pg = sns.load_dataset(\"penguins\")\n",
    "pg.head()"
   ]
  },
  {
   "cell_type": "markdown",
   "metadata": {},
   "source": [
    "## Species VS sex\n",
    "\n",
    "Ik verwacht dat er een correlatie tussen de columns zullen zijn. Ik denk dat over het algemeen mannetjes penguins groter zullen zijn dan vrouwtjes"
   ]
  },
  {
   "cell_type": "code",
   "execution_count": 3,
   "metadata": {},
   "outputs": [
    {
     "data": {
      "text/html": [
       "<div>\n",
       "<style scoped>\n",
       "    .dataframe tbody tr th:only-of-type {\n",
       "        vertical-align: middle;\n",
       "    }\n",
       "\n",
       "    .dataframe tbody tr th {\n",
       "        vertical-align: top;\n",
       "    }\n",
       "\n",
       "    .dataframe thead tr th {\n",
       "        text-align: left;\n",
       "    }\n",
       "\n",
       "    .dataframe thead tr:last-of-type th {\n",
       "        text-align: right;\n",
       "    }\n",
       "</style>\n",
       "<table border=\"1\" class=\"dataframe\">\n",
       "  <thead>\n",
       "    <tr>\n",
       "      <th></th>\n",
       "      <th colspan=\"2\" halign=\"left\">bill_length_mm</th>\n",
       "      <th colspan=\"2\" halign=\"left\">bill_depth_mm</th>\n",
       "      <th colspan=\"2\" halign=\"left\">flipper_length_mm</th>\n",
       "      <th colspan=\"2\" halign=\"left\">body_mass_g</th>\n",
       "    </tr>\n",
       "    <tr>\n",
       "      <th>sex</th>\n",
       "      <th>Female</th>\n",
       "      <th>Male</th>\n",
       "      <th>Female</th>\n",
       "      <th>Male</th>\n",
       "      <th>Female</th>\n",
       "      <th>Male</th>\n",
       "      <th>Female</th>\n",
       "      <th>Male</th>\n",
       "    </tr>\n",
       "    <tr>\n",
       "      <th>species</th>\n",
       "      <th></th>\n",
       "      <th></th>\n",
       "      <th></th>\n",
       "      <th></th>\n",
       "      <th></th>\n",
       "      <th></th>\n",
       "      <th></th>\n",
       "      <th></th>\n",
       "    </tr>\n",
       "  </thead>\n",
       "  <tbody>\n",
       "    <tr>\n",
       "      <th>Adelie</th>\n",
       "      <td>37.257534</td>\n",
       "      <td>40.390411</td>\n",
       "      <td>17.621918</td>\n",
       "      <td>19.072603</td>\n",
       "      <td>187.794521</td>\n",
       "      <td>192.410959</td>\n",
       "      <td>3368.835616</td>\n",
       "      <td>4043.493151</td>\n",
       "    </tr>\n",
       "    <tr>\n",
       "      <th>Chinstrap</th>\n",
       "      <td>46.573529</td>\n",
       "      <td>51.094118</td>\n",
       "      <td>17.588235</td>\n",
       "      <td>19.252941</td>\n",
       "      <td>191.735294</td>\n",
       "      <td>199.911765</td>\n",
       "      <td>3527.205882</td>\n",
       "      <td>3938.970588</td>\n",
       "    </tr>\n",
       "    <tr>\n",
       "      <th>Gentoo</th>\n",
       "      <td>45.563793</td>\n",
       "      <td>49.473770</td>\n",
       "      <td>14.237931</td>\n",
       "      <td>15.718033</td>\n",
       "      <td>212.706897</td>\n",
       "      <td>221.540984</td>\n",
       "      <td>4679.741379</td>\n",
       "      <td>5484.836066</td>\n",
       "    </tr>\n",
       "  </tbody>\n",
       "</table>\n",
       "</div>"
      ],
      "text/plain": [
       "          bill_length_mm            bill_depth_mm             \\\n",
       "sex               Female       Male        Female       Male   \n",
       "species                                                        \n",
       "Adelie         37.257534  40.390411     17.621918  19.072603   \n",
       "Chinstrap      46.573529  51.094118     17.588235  19.252941   \n",
       "Gentoo         45.563793  49.473770     14.237931  15.718033   \n",
       "\n",
       "          flipper_length_mm              body_mass_g               \n",
       "sex                  Female        Male       Female         Male  \n",
       "species                                                            \n",
       "Adelie           187.794521  192.410959  3368.835616  4043.493151  \n",
       "Chinstrap        191.735294  199.911765  3527.205882  3938.970588  \n",
       "Gentoo           212.706897  221.540984  4679.741379  5484.836066  "
      ]
     },
     "execution_count": 3,
     "metadata": {},
     "output_type": "execute_result"
    }
   ],
   "source": [
    "grouped = pg.groupby([\"sex\", \"species\"]).mean().unstack(\"sex\")\n",
    "grouped"
   ]
  },
  {
   "cell_type": "code",
   "execution_count": 4,
   "metadata": {},
   "outputs": [
    {
     "data": {
      "text/plain": [
       "<AxesSubplot:xlabel='species'>"
      ]
     },
     "execution_count": 4,
     "metadata": {},
     "output_type": "execute_result"
    },
    {
     "data": {
      "image/png": "[encoded data removed]",
      "text/plain": [
       "<Figure size 432x288 with 1 Axes>"
      ]
     },
     "metadata": {
      "needs_background": "light"
     },
     "output_type": "display_data"
    }
   ],
   "source": [
    "grouped.plot(kind=\"bar\")"
   ]
  },
  {
   "cell_type": "markdown",
   "metadata": {},
   "source": [
    "Er is een verschil te zien tussen de categorieen, vooral de body mass. De twee andere attributes zien we niet een sterk verschil tussen, omdat de waarden van 0 tot 5000 gaan, en die waarden waarschijnlijk tussen 0 en max 200 lopen."
   ]
  },
  {
   "cell_type": "code",
   "execution_count": 5,
   "metadata": {},
   "outputs": [
    {
     "data": {
      "text/plain": [
       "(26.05405185445604,\n",
       " 0.02548035798187525,\n",
       " 14,\n",
       " array([[  38.42948228,   41.86375404,   14.68577902,   16.05061225,\n",
       "          175.89068661,  182.31377235, 3437.93682479, 3999.70580098],\n",
       "        [  38.84481897,   42.31620752,   14.84449943,   16.22408345,\n",
       "          177.79167127,  184.28417619, 3475.09322731, 4042.93366881],\n",
       "        [  52.12055551,   56.77833753,   19.91780569,   21.768881  ,\n",
       "          238.55435334,  247.26575867, 4662.752826  , 5424.66033471]]))"
      ]
     },
     "execution_count": 5,
     "metadata": {},
     "output_type": "execute_result"
    }
   ],
   "source": [
    "chi2_contingency(grouped)"
   ]
  },
  {
   "cell_type": "markdown",
   "metadata": {},
   "source": [
    "Er is hier te zien de P waarde van deze test < 0.05 is, en daarom een prima verband is."
   ]
  },
  {
   "cell_type": "markdown",
   "metadata": {},
   "source": [
    "## Island VS Sex\n",
    "\n",
    "Ik verwacht dat er enige correlatie tussen deze columns kan zijn, omdat sommige penguins minder zwemmen dan anderen, denk aan de penguins die op de kust van Zuid-Afrika leven. Hierdoor hebben ze minder grote flippers nodig"
   ]
  },
  {
   "cell_type": "code",
   "execution_count": 6,
   "metadata": {},
   "outputs": [
    {
     "data": {
      "text/html": [
       "<div>\n",
       "<style scoped>\n",
       "    .dataframe tbody tr th:only-of-type {\n",
       "        vertical-align: middle;\n",
       "    }\n",
       "\n",
       "    .dataframe tbody tr th {\n",
       "        vertical-align: top;\n",
       "    }\n",
       "\n",
       "    .dataframe thead tr th {\n",
       "        text-align: left;\n",
       "    }\n",
       "\n",
       "    .dataframe thead tr:last-of-type th {\n",
       "        text-align: right;\n",
       "    }\n",
       "</style>\n",
       "<table border=\"1\" class=\"dataframe\">\n",
       "  <thead>\n",
       "    <tr>\n",
       "      <th></th>\n",
       "      <th colspan=\"2\" halign=\"left\">bill_length_mm</th>\n",
       "      <th colspan=\"2\" halign=\"left\">bill_depth_mm</th>\n",
       "      <th colspan=\"2\" halign=\"left\">flipper_length_mm</th>\n",
       "      <th colspan=\"2\" halign=\"left\">body_mass_g</th>\n",
       "    </tr>\n",
       "    <tr>\n",
       "      <th>sex</th>\n",
       "      <th>Female</th>\n",
       "      <th>Male</th>\n",
       "      <th>Female</th>\n",
       "      <th>Male</th>\n",
       "      <th>Female</th>\n",
       "      <th>Male</th>\n",
       "      <th>Female</th>\n",
       "      <th>Male</th>\n",
       "    </tr>\n",
       "    <tr>\n",
       "      <th>island</th>\n",
       "      <th></th>\n",
       "      <th></th>\n",
       "      <th></th>\n",
       "      <th></th>\n",
       "      <th></th>\n",
       "      <th></th>\n",
       "      <th></th>\n",
       "      <th></th>\n",
       "    </tr>\n",
       "  </thead>\n",
       "  <tbody>\n",
       "    <tr>\n",
       "      <th>Biscoe</th>\n",
       "      <td>43.307500</td>\n",
       "      <td>47.119277</td>\n",
       "      <td>15.191250</td>\n",
       "      <td>16.597590</td>\n",
       "      <td>205.687500</td>\n",
       "      <td>213.289157</td>\n",
       "      <td>4319.375000</td>\n",
       "      <td>5104.518072</td>\n",
       "    </tr>\n",
       "    <tr>\n",
       "      <th>Dream</th>\n",
       "      <td>42.296721</td>\n",
       "      <td>46.116129</td>\n",
       "      <td>17.601639</td>\n",
       "      <td>19.066129</td>\n",
       "      <td>190.016393</td>\n",
       "      <td>196.306452</td>\n",
       "      <td>3446.311475</td>\n",
       "      <td>3987.096774</td>\n",
       "    </tr>\n",
       "    <tr>\n",
       "      <th>Torgersen</th>\n",
       "      <td>37.554167</td>\n",
       "      <td>40.586957</td>\n",
       "      <td>17.550000</td>\n",
       "      <td>19.391304</td>\n",
       "      <td>188.291667</td>\n",
       "      <td>194.913043</td>\n",
       "      <td>3395.833333</td>\n",
       "      <td>4034.782609</td>\n",
       "    </tr>\n",
       "  </tbody>\n",
       "</table>\n",
       "</div>"
      ],
      "text/plain": [
       "          bill_length_mm            bill_depth_mm             \\\n",
       "sex               Female       Male        Female       Male   \n",
       "island                                                         \n",
       "Biscoe         43.307500  47.119277     15.191250  16.597590   \n",
       "Dream          42.296721  46.116129     17.601639  19.066129   \n",
       "Torgersen      37.554167  40.586957     17.550000  19.391304   \n",
       "\n",
       "          flipper_length_mm              body_mass_g               \n",
       "sex                  Female        Male       Female         Male  \n",
       "island                                                             \n",
       "Biscoe           205.687500  213.289157  4319.375000  5104.518072  \n",
       "Dream            190.016393  196.306452  3446.311475  3987.096774  \n",
       "Torgersen        188.291667  194.913043  3395.833333  4034.782609  "
      ]
     },
     "execution_count": 6,
     "metadata": {},
     "output_type": "execute_result"
    }
   ],
   "source": [
    "grouped = pg.groupby([\"island\", \"sex\"]).mean().unstack(\"sex\")\n",
    "grouped"
   ]
  },
  {
   "cell_type": "code",
   "execution_count": 7,
   "metadata": {},
   "outputs": [
    {
     "data": {
      "text/plain": [
       "<AxesSubplot:xlabel='island'>"
      ]
     },
     "execution_count": 7,
     "metadata": {},
     "output_type": "execute_result"
    },
    {
     "data": {
      "image/png": "[encoded data removed]",
      "text/plain": [
       "<Figure size 432x288 with 1 Axes>"
      ]
     },
     "metadata": {
      "needs_background": "light"
     },
     "output_type": "display_data"
    }
   ],
   "source": [
    "grouped.plot(kind=\"bar\")"
   ]
  },
  {
   "cell_type": "markdown",
   "metadata": {},
   "source": [
    "Er is te zien dat de penguins op het eiland Biscoe zwaarder zijn dan op de andere eilanden. We zien hier ook dat de bill length kleiner is op Torgersen dan op de andere eilanden."
   ]
  },
  {
   "cell_type": "code",
   "execution_count": 8,
   "metadata": {},
   "outputs": [
    {
     "data": {
      "text/plain": [
       "(11.866005868933847,\n",
       " 0.617062712376073,\n",
       " 14,\n",
       " array([[  47.49771045,   51.61041759,   19.41542123,   21.23272007,\n",
       "          225.22584512,  233.13699841, 4304.59219813, 5062.37403538],\n",
       "        [  37.86825232,   41.14716893,   15.47923181,   16.92810019,\n",
       "          179.56463696,  185.87192095, 3431.89981102, 4036.0525912 ],\n",
       "        [  37.79242521,   41.06477614,   15.4482363 ,   16.89420348,\n",
       "          179.20507803,  185.49973236, 3425.02779959, 4027.9708286 ]]))"
      ]
     },
     "execution_count": 8,
     "metadata": {},
     "output_type": "execute_result"
    }
   ],
   "source": [
    "chi2_contingency(grouped)"
   ]
  },
  {
   "cell_type": "markdown",
   "metadata": {},
   "source": [
    "Als we hier kijken naar de uitkomst van de P value, is dit een percentage van 61,7%. Er is geen sprake van een verband.\n",
    "Mijn verwachting is hierbij dus ontkracht."
   ]
  }
 ],
 "metadata": {
  "kernelspec": {
   "display_name": "Python 3",
   "language": "python",
   "name": "python3"
  },
  "language_info": {
   "codemirror_mode": {
    "name": "ipython",
    "version": 3
   },
   "file_extension": ".py",
   "mimetype": "text/x-python",
   "name": "python",
   "nbconvert_exporter": "python",
   "pygments_lexer": "ipython3",
   "version": "3.8.5"
  }
 },
 "nbformat": 4,
 "nbformat_minor": 4
}
