{
 "cells": [
  {
   "cell_type": "code",
   "execution_count": 16,
   "metadata": {},
   "outputs": [],
   "source": [
    "import pandas as pd\n",
    "import numpy as np\n",
    "import seaborn as sns\n",
    "from matplotlib import pyplot as plt"
   ]
  },
  {
   "cell_type": "markdown",
   "metadata": {},
   "source": [
    "# Portofolio assignment 10\n",
    "Perform a bivariate analysis (pearson correlation and scatter plot) on at least 1 combination of 2 columns with numeric data in the dataset that you chose in portofolio assignment 4. Does the correlation and scatter plot match your expectations? Add your answer to your notebook. Commit the Notebook to your portofolio when you're finished"
   ]
  },
  {
   "cell_type": "code",
   "execution_count": 57,
   "metadata": {},
   "outputs": [
    {
     "data": {
      "text/html": [
       "<div>\n",
       "<style scoped>\n",
       "    .dataframe tbody tr th:only-of-type {\n",
       "        vertical-align: middle;\n",
       "    }\n",
       "\n",
       "    .dataframe tbody tr th {\n",
       "        vertical-align: top;\n",
       "    }\n",
       "\n",
       "    .dataframe thead th {\n",
       "        text-align: right;\n",
       "    }\n",
       "</style>\n",
       "<table border=\"1\" class=\"dataframe\">\n",
       "  <thead>\n",
       "    <tr style=\"text-align: right;\">\n",
       "      <th></th>\n",
       "      <th>gender</th>\n",
       "      <th>race/ethnicity</th>\n",
       "      <th>parental level of education</th>\n",
       "      <th>lunch</th>\n",
       "      <th>test preparation course</th>\n",
       "      <th>math score</th>\n",
       "      <th>reading score</th>\n",
       "      <th>writing score</th>\n",
       "    </tr>\n",
       "  </thead>\n",
       "  <tbody>\n",
       "    <tr>\n",
       "      <th>0</th>\n",
       "      <td>female</td>\n",
       "      <td>group B</td>\n",
       "      <td>bachelor's degree</td>\n",
       "      <td>standard</td>\n",
       "      <td>none</td>\n",
       "      <td>72</td>\n",
       "      <td>72</td>\n",
       "      <td>74</td>\n",
       "    </tr>\n",
       "    <tr>\n",
       "      <th>1</th>\n",
       "      <td>female</td>\n",
       "      <td>group C</td>\n",
       "      <td>some college</td>\n",
       "      <td>standard</td>\n",
       "      <td>completed</td>\n",
       "      <td>69</td>\n",
       "      <td>90</td>\n",
       "      <td>88</td>\n",
       "    </tr>\n",
       "    <tr>\n",
       "      <th>2</th>\n",
       "      <td>female</td>\n",
       "      <td>group B</td>\n",
       "      <td>master's degree</td>\n",
       "      <td>standard</td>\n",
       "      <td>none</td>\n",
       "      <td>90</td>\n",
       "      <td>95</td>\n",
       "      <td>93</td>\n",
       "    </tr>\n",
       "    <tr>\n",
       "      <th>3</th>\n",
       "      <td>male</td>\n",
       "      <td>group A</td>\n",
       "      <td>associate's degree</td>\n",
       "      <td>free/reduced</td>\n",
       "      <td>none</td>\n",
       "      <td>47</td>\n",
       "      <td>57</td>\n",
       "      <td>44</td>\n",
       "    </tr>\n",
       "    <tr>\n",
       "      <th>4</th>\n",
       "      <td>male</td>\n",
       "      <td>group C</td>\n",
       "      <td>some college</td>\n",
       "      <td>standard</td>\n",
       "      <td>none</td>\n",
       "      <td>76</td>\n",
       "      <td>78</td>\n",
       "      <td>75</td>\n",
       "    </tr>\n",
       "  </tbody>\n",
       "</table>\n",
       "</div>"
      ],
      "text/plain": [
       "   gender race/ethnicity parental level of education         lunch  \\\n",
       "0  female        group B           bachelor's degree      standard   \n",
       "1  female        group C                some college      standard   \n",
       "2  female        group B             master's degree      standard   \n",
       "3    male        group A          associate's degree  free/reduced   \n",
       "4    male        group C                some college      standard   \n",
       "\n",
       "  test preparation course  math score  reading score  writing score  \n",
       "0                    none          72             72             74  \n",
       "1               completed          69             90             88  \n",
       "2                    none          90             95             93  \n",
       "3                    none          47             57             44  \n",
       "4                    none          76             78             75  "
      ]
     },
     "execution_count": 57,
     "metadata": {},
     "output_type": "execute_result"
    }
   ],
   "source": [
    "grades = pd.read_csv(\"StudentsPerformance.csv\")\n",
    "grades.head()"
   ]
  },
  {
   "cell_type": "code",
   "execution_count": 58,
   "metadata": {},
   "outputs": [
    {
     "data": {
      "text/html": [
       "<style  type=\"text/css\" >\n",
       "#T_cf2ee53f_8008_11eb_973d_1c1bb576cc61row0_col0,#T_cf2ee53f_8008_11eb_973d_1c1bb576cc61row1_col1,#T_cf2ee53f_8008_11eb_973d_1c1bb576cc61row2_col2{\n",
       "            background-color:  #f0f921;\n",
       "            color:  #000000;\n",
       "        }#T_cf2ee53f_8008_11eb_973d_1c1bb576cc61row0_col1,#T_cf2ee53f_8008_11eb_973d_1c1bb576cc61row0_col2,#T_cf2ee53f_8008_11eb_973d_1c1bb576cc61row2_col0{\n",
       "            background-color:  #0d0887;\n",
       "            color:  #f1f1f1;\n",
       "        }#T_cf2ee53f_8008_11eb_973d_1c1bb576cc61row1_col0{\n",
       "            background-color:  #370499;\n",
       "            color:  #f1f1f1;\n",
       "        }#T_cf2ee53f_8008_11eb_973d_1c1bb576cc61row1_col2{\n",
       "            background-color:  #fa9c3c;\n",
       "            color:  #000000;\n",
       "        }#T_cf2ee53f_8008_11eb_973d_1c1bb576cc61row2_col1{\n",
       "            background-color:  #f89540;\n",
       "            color:  #000000;\n",
       "        }</style><table id=\"T_cf2ee53f_8008_11eb_973d_1c1bb576cc61\" ><thead>    <tr>        <th class=\"blank level0\" ></th>        <th class=\"col_heading level0 col0\" >math score</th>        <th class=\"col_heading level0 col1\" >reading score</th>        <th class=\"col_heading level0 col2\" >writing score</th>    </tr></thead><tbody>\n",
       "                <tr>\n",
       "                        <th id=\"T_cf2ee53f_8008_11eb_973d_1c1bb576cc61level0_row0\" class=\"row_heading level0 row0\" >math score</th>\n",
       "                        <td id=\"T_cf2ee53f_8008_11eb_973d_1c1bb576cc61row0_col0\" class=\"data row0 col0\" >1.000000</td>\n",
       "                        <td id=\"T_cf2ee53f_8008_11eb_973d_1c1bb576cc61row0_col1\" class=\"data row0 col1\" >0.817580</td>\n",
       "                        <td id=\"T_cf2ee53f_8008_11eb_973d_1c1bb576cc61row0_col2\" class=\"data row0 col2\" >0.802642</td>\n",
       "            </tr>\n",
       "            <tr>\n",
       "                        <th id=\"T_cf2ee53f_8008_11eb_973d_1c1bb576cc61level0_row1\" class=\"row_heading level0 row1\" >reading score</th>\n",
       "                        <td id=\"T_cf2ee53f_8008_11eb_973d_1c1bb576cc61row1_col0\" class=\"data row1 col0\" >0.817580</td>\n",
       "                        <td id=\"T_cf2ee53f_8008_11eb_973d_1c1bb576cc61row1_col1\" class=\"data row1 col1\" >1.000000</td>\n",
       "                        <td id=\"T_cf2ee53f_8008_11eb_973d_1c1bb576cc61row1_col2\" class=\"data row1 col2\" >0.954598</td>\n",
       "            </tr>\n",
       "            <tr>\n",
       "                        <th id=\"T_cf2ee53f_8008_11eb_973d_1c1bb576cc61level0_row2\" class=\"row_heading level0 row2\" >writing score</th>\n",
       "                        <td id=\"T_cf2ee53f_8008_11eb_973d_1c1bb576cc61row2_col0\" class=\"data row2 col0\" >0.802642</td>\n",
       "                        <td id=\"T_cf2ee53f_8008_11eb_973d_1c1bb576cc61row2_col1\" class=\"data row2 col1\" >0.954598</td>\n",
       "                        <td id=\"T_cf2ee53f_8008_11eb_973d_1c1bb576cc61row2_col2\" class=\"data row2 col2\" >1.000000</td>\n",
       "            </tr>\n",
       "    </tbody></table>"
      ],
      "text/plain": [
       "<pandas.io.formats.style.Styler at 0x2a711211a00>"
      ]
     },
     "execution_count": 58,
     "metadata": {},
     "output_type": "execute_result"
    }
   ],
   "source": [
    "corr = grades.corr()\n",
    "corr.style.background_gradient(cmap=\"plasma\")"
   ]
  },
  {
   "cell_type": "markdown",
   "metadata": {},
   "source": [
    "#### Does it match your expectations?\n",
    "\n",
    "Ja. Ik had inderdaad verwacht dat gemiddeld gezien mensen beter zijn in lezen en schrijven, dan een daarvan in combinatie met wiskunde. \n",
    "In de scatterplots hieronder is te zien dat het verschil niet enorm is tussen de plots, maar er is wel te zien dat het een iets wijdere range heeft als wiskunde in het spel komt."
   ]
  },
  {
   "cell_type": "markdown",
   "metadata": {},
   "source": [
    "### Met filtering"
   ]
  },
  {
   "cell_type": "markdown",
   "metadata": {},
   "source": [
    "### Hoogste correlatie"
   ]
  },
  {
   "cell_type": "code",
   "execution_count": 59,
   "metadata": {},
   "outputs": [
    {
     "data": {
      "text/plain": [
       "<matplotlib.collections.PathCollection at 0x2a710eeb820>"
      ]
     },
     "execution_count": 59,
     "metadata": {},
     "output_type": "execute_result"
    },
    {
     "data": {
      "image/png": "[encoded data removed]",
      "text/plain": [
       "<Figure size 432x288 with 1 Axes>"
      ]
     },
     "metadata": {
      "needs_background": "light"
     },
     "output_type": "display_data"
    }
   ],
   "source": [
    "plt.scatter(grades[\"reading score\"], grades[\"writing score\"])"
   ]
  },
  {
   "cell_type": "markdown",
   "metadata": {},
   "source": [
    "### Laagste correlatie"
   ]
  },
  {
   "cell_type": "code",
   "execution_count": 60,
   "metadata": {},
   "outputs": [
    {
     "data": {
      "text/plain": [
       "<matplotlib.collections.PathCollection at 0x2a70e0d7940>"
      ]
     },
     "execution_count": 60,
     "metadata": {},
     "output_type": "execute_result"
    },
    {
     "data": {
      "image/png": "[encoded data removed]",
      "text/plain": [
       "<Figure size 432x288 with 1 Axes>"
      ]
     },
     "metadata": {
      "needs_background": "light"
     },
     "output_type": "display_data"
    }
   ],
   "source": [
    "plt.scatter(grades[\"writing score\"], grades[\"math score\"])"
   ]
  },
  {
   "cell_type": "markdown",
   "metadata": {},
   "source": [
    "### Zwakste correlatie"
   ]
  },
  {
   "cell_type": "code",
   "execution_count": 61,
   "metadata": {},
   "outputs": [
    {
     "data": {
      "text/plain": [
       "<matplotlib.collections.PathCollection at 0x2a711257250>"
      ]
     },
     "execution_count": 61,
     "metadata": {},
     "output_type": "execute_result"
    },
    {
     "data": {
      "image/png": "[encoded data removed]",
      "text/plain": [
       "<Figure size 432x288 with 1 Axes>"
      ]
     },
     "metadata": {
      "needs_background": "light"
     },
     "output_type": "display_data"
    }
   ],
   "source": [
    "plt.scatter(grades[\"reading score\"], grades[\"math score\"])"
   ]
  }
 ],
 "metadata": {
  "kernelspec": {
   "display_name": "Python 3",
   "language": "python",
   "name": "python3"
  },
  "language_info": {
   "codemirror_mode": {
    "name": "ipython",
    "version": 3
   },
   "file_extension": ".py",
   "mimetype": "text/x-python",
   "name": "python",
   "nbconvert_exporter": "python",
   "pygments_lexer": "ipython3",
   "version": "3.8.5"
  }
 },
 "nbformat": 4,
 "nbformat_minor": 4
}
