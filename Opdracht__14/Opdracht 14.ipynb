{
 "cells": [
  {
   "cell_type": "markdown",
   "metadata": {},
   "source": [
    "# Opdracht 14\n",
    "\n",
    "Perform a bivariate analysis on at least 1 combination of 2 columns with categorical data in the dataset that you chose in portofolio assignment 4.\n",
    "\n",
    "- Do you expect there to be a correlation between the two columns\n",
    "- Create a contigency table. Do you observe different rations between categories here\n",
    "- Create a bar plot for this contigency table. Do you observe different ratios between categories hiere\n",
    "- Do a chi-squared test. What does the result say? What's the chance of there being a correlation between the two columns"
   ]
  },
  {
   "cell_type": "code",
   "execution_count": 1,
   "metadata": {},
   "outputs": [],
   "source": [
    "import pandas as pd\n",
    "\n",
    "from scipy.stats import chi2_contingency"
   ]
  },
  {
   "cell_type": "code",
   "execution_count": 2,
   "metadata": {},
   "outputs": [
    {
     "data": {
      "text/html": [
       "<div>\n",
       "<style scoped>\n",
       "    .dataframe tbody tr th:only-of-type {\n",
       "        vertical-align: middle;\n",
       "    }\n",
       "\n",
       "    .dataframe tbody tr th {\n",
       "        vertical-align: top;\n",
       "    }\n",
       "\n",
       "    .dataframe thead th {\n",
       "        text-align: right;\n",
       "    }\n",
       "</style>\n",
       "<table border=\"1\" class=\"dataframe\">\n",
       "  <thead>\n",
       "    <tr style=\"text-align: right;\">\n",
       "      <th></th>\n",
       "      <th>gender</th>\n",
       "      <th>race/ethnicity</th>\n",
       "      <th>parental level of education</th>\n",
       "      <th>lunch</th>\n",
       "      <th>test preparation course</th>\n",
       "      <th>math score</th>\n",
       "      <th>reading score</th>\n",
       "      <th>writing score</th>\n",
       "    </tr>\n",
       "  </thead>\n",
       "  <tbody>\n",
       "    <tr>\n",
       "      <th>0</th>\n",
       "      <td>female</td>\n",
       "      <td>group B</td>\n",
       "      <td>bachelor's degree</td>\n",
       "      <td>standard</td>\n",
       "      <td>none</td>\n",
       "      <td>72</td>\n",
       "      <td>72</td>\n",
       "      <td>74</td>\n",
       "    </tr>\n",
       "    <tr>\n",
       "      <th>1</th>\n",
       "      <td>female</td>\n",
       "      <td>group C</td>\n",
       "      <td>some college</td>\n",
       "      <td>standard</td>\n",
       "      <td>completed</td>\n",
       "      <td>69</td>\n",
       "      <td>90</td>\n",
       "      <td>88</td>\n",
       "    </tr>\n",
       "    <tr>\n",
       "      <th>2</th>\n",
       "      <td>female</td>\n",
       "      <td>group B</td>\n",
       "      <td>master's degree</td>\n",
       "      <td>standard</td>\n",
       "      <td>none</td>\n",
       "      <td>90</td>\n",
       "      <td>95</td>\n",
       "      <td>93</td>\n",
       "    </tr>\n",
       "    <tr>\n",
       "      <th>3</th>\n",
       "      <td>male</td>\n",
       "      <td>group A</td>\n",
       "      <td>associate's degree</td>\n",
       "      <td>free/reduced</td>\n",
       "      <td>none</td>\n",
       "      <td>47</td>\n",
       "      <td>57</td>\n",
       "      <td>44</td>\n",
       "    </tr>\n",
       "    <tr>\n",
       "      <th>4</th>\n",
       "      <td>male</td>\n",
       "      <td>group C</td>\n",
       "      <td>some college</td>\n",
       "      <td>standard</td>\n",
       "      <td>none</td>\n",
       "      <td>76</td>\n",
       "      <td>78</td>\n",
       "      <td>75</td>\n",
       "    </tr>\n",
       "  </tbody>\n",
       "</table>\n",
       "</div>"
      ],
      "text/plain": [
       "   gender race/ethnicity parental level of education         lunch  \\\n",
       "0  female        group B           bachelor's degree      standard   \n",
       "1  female        group C                some college      standard   \n",
       "2  female        group B             master's degree      standard   \n",
       "3    male        group A          associate's degree  free/reduced   \n",
       "4    male        group C                some college      standard   \n",
       "\n",
       "  test preparation course  math score  reading score  writing score  \n",
       "0                    none          72             72             74  \n",
       "1               completed          69             90             88  \n",
       "2                    none          90             95             93  \n",
       "3                    none          47             57             44  \n",
       "4                    none          76             78             75  "
      ]
     },
     "execution_count": 2,
     "metadata": {},
     "output_type": "execute_result"
    }
   ],
   "source": [
    "grades = pd.read_csv(\"StudentsPerformance.csv\")\n",
    "grades.head()"
   ]
  },
  {
   "cell_type": "markdown",
   "metadata": {},
   "source": [
    "## Correlatie tussen Parental Level of Education & Race/Ethnicity\n",
    "\n",
    "Ik verwacht dat er hier een sterke correlatie tussen te vinden"
   ]
  },
  {
   "cell_type": "code",
   "execution_count": 3,
   "metadata": {},
   "outputs": [
    {
     "data": {
      "text/html": [
       "<div>\n",
       "<style scoped>\n",
       "    .dataframe tbody tr th:only-of-type {\n",
       "        vertical-align: middle;\n",
       "    }\n",
       "\n",
       "    .dataframe tbody tr th {\n",
       "        vertical-align: top;\n",
       "    }\n",
       "\n",
       "    .dataframe thead tr th {\n",
       "        text-align: left;\n",
       "    }\n",
       "\n",
       "    .dataframe thead tr:last-of-type th {\n",
       "        text-align: right;\n",
       "    }\n",
       "</style>\n",
       "<table border=\"1\" class=\"dataframe\">\n",
       "  <thead>\n",
       "    <tr>\n",
       "      <th></th>\n",
       "      <th colspan=\"5\" halign=\"left\">math score</th>\n",
       "      <th colspan=\"5\" halign=\"left\">reading score</th>\n",
       "      <th colspan=\"5\" halign=\"left\">writing score</th>\n",
       "    </tr>\n",
       "    <tr>\n",
       "      <th>race/ethnicity</th>\n",
       "      <th>group A</th>\n",
       "      <th>group B</th>\n",
       "      <th>group C</th>\n",
       "      <th>group D</th>\n",
       "      <th>group E</th>\n",
       "      <th>group A</th>\n",
       "      <th>group B</th>\n",
       "      <th>group C</th>\n",
       "      <th>group D</th>\n",
       "      <th>group E</th>\n",
       "      <th>group A</th>\n",
       "      <th>group B</th>\n",
       "      <th>group C</th>\n",
       "      <th>group D</th>\n",
       "      <th>group E</th>\n",
       "    </tr>\n",
       "    <tr>\n",
       "      <th>parental level of education</th>\n",
       "      <th></th>\n",
       "      <th></th>\n",
       "      <th></th>\n",
       "      <th></th>\n",
       "      <th></th>\n",
       "      <th></th>\n",
       "      <th></th>\n",
       "      <th></th>\n",
       "      <th></th>\n",
       "      <th></th>\n",
       "      <th></th>\n",
       "      <th></th>\n",
       "      <th></th>\n",
       "      <th></th>\n",
       "      <th></th>\n",
       "    </tr>\n",
       "  </thead>\n",
       "  <tbody>\n",
       "    <tr>\n",
       "      <th>associate's degree</th>\n",
       "      <td>61.000000</td>\n",
       "      <td>66.097561</td>\n",
       "      <td>66.730769</td>\n",
       "      <td>67.600000</td>\n",
       "      <td>74.897436</td>\n",
       "      <td>67.071429</td>\n",
       "      <td>69.585366</td>\n",
       "      <td>71.128205</td>\n",
       "      <td>70.540000</td>\n",
       "      <td>73.820513</td>\n",
       "      <td>63.571429</td>\n",
       "      <td>68.243902</td>\n",
       "      <td>70.269231</td>\n",
       "      <td>69.860000</td>\n",
       "      <td>73.205128</td>\n",
       "    </tr>\n",
       "    <tr>\n",
       "      <th>bachelor's degree</th>\n",
       "      <td>67.166667</td>\n",
       "      <td>69.300000</td>\n",
       "      <td>68.150000</td>\n",
       "      <td>67.571429</td>\n",
       "      <td>76.555556</td>\n",
       "      <td>68.083333</td>\n",
       "      <td>72.950000</td>\n",
       "      <td>75.675000</td>\n",
       "      <td>70.142857</td>\n",
       "      <td>74.833333</td>\n",
       "      <td>68.333333</td>\n",
       "      <td>71.650000</td>\n",
       "      <td>75.900000</td>\n",
       "      <td>71.892857</td>\n",
       "      <td>75.388889</td>\n",
       "    </tr>\n",
       "    <tr>\n",
       "      <th>high school</th>\n",
       "      <td>60.444444</td>\n",
       "      <td>59.791667</td>\n",
       "      <td>60.906250</td>\n",
       "      <td>62.863636</td>\n",
       "      <td>70.772727</td>\n",
       "      <td>62.888889</td>\n",
       "      <td>63.458333</td>\n",
       "      <td>64.421875</td>\n",
       "      <td>64.409091</td>\n",
       "      <td>70.318182</td>\n",
       "      <td>60.500000</td>\n",
       "      <td>61.250000</td>\n",
       "      <td>61.656250</td>\n",
       "      <td>63.159091</td>\n",
       "      <td>67.545455</td>\n",
       "    </tr>\n",
       "    <tr>\n",
       "      <th>master's degree</th>\n",
       "      <td>57.666667</td>\n",
       "      <td>67.166667</td>\n",
       "      <td>67.052632</td>\n",
       "      <td>72.521739</td>\n",
       "      <td>74.625000</td>\n",
       "      <td>64.666667</td>\n",
       "      <td>80.166667</td>\n",
       "      <td>70.526316</td>\n",
       "      <td>77.173913</td>\n",
       "      <td>82.125000</td>\n",
       "      <td>67.666667</td>\n",
       "      <td>77.166667</td>\n",
       "      <td>69.526316</td>\n",
       "      <td>79.739130</td>\n",
       "      <td>80.500000</td>\n",
       "    </tr>\n",
       "    <tr>\n",
       "      <th>some college</th>\n",
       "      <td>63.888889</td>\n",
       "      <td>63.189189</td>\n",
       "      <td>65.130435</td>\n",
       "      <td>68.731343</td>\n",
       "      <td>73.828571</td>\n",
       "      <td>65.777778</td>\n",
       "      <td>65.756757</td>\n",
       "      <td>69.420290</td>\n",
       "      <td>70.880597</td>\n",
       "      <td>72.628571</td>\n",
       "      <td>65.000000</td>\n",
       "      <td>64.189189</td>\n",
       "      <td>68.869565</td>\n",
       "      <td>71.701493</td>\n",
       "      <td>70.200000</td>\n",
       "    </tr>\n",
       "    <tr>\n",
       "      <th>some high school</th>\n",
       "      <td>58.916667</td>\n",
       "      <td>61.815789</td>\n",
       "      <td>60.551020</td>\n",
       "      <td>66.760000</td>\n",
       "      <td>72.111111</td>\n",
       "      <td>62.083333</td>\n",
       "      <td>66.447368</td>\n",
       "      <td>65.632653</td>\n",
       "      <td>69.980000</td>\n",
       "      <td>69.555556</td>\n",
       "      <td>58.583333</td>\n",
       "      <td>64.605263</td>\n",
       "      <td>63.285714</td>\n",
       "      <td>69.100000</td>\n",
       "      <td>66.555556</td>\n",
       "    </tr>\n",
       "  </tbody>\n",
       "</table>\n",
       "</div>"
      ],
      "text/plain": [
       "                            math score                                   \\\n",
       "race/ethnicity                 group A    group B    group C    group D   \n",
       "parental level of education                                               \n",
       "associate's degree           61.000000  66.097561  66.730769  67.600000   \n",
       "bachelor's degree            67.166667  69.300000  68.150000  67.571429   \n",
       "high school                  60.444444  59.791667  60.906250  62.863636   \n",
       "master's degree              57.666667  67.166667  67.052632  72.521739   \n",
       "some college                 63.888889  63.189189  65.130435  68.731343   \n",
       "some high school             58.916667  61.815789  60.551020  66.760000   \n",
       "\n",
       "                                       reading score                        \\\n",
       "race/ethnicity                 group E       group A    group B    group C   \n",
       "parental level of education                                                  \n",
       "associate's degree           74.897436     67.071429  69.585366  71.128205   \n",
       "bachelor's degree            76.555556     68.083333  72.950000  75.675000   \n",
       "high school                  70.772727     62.888889  63.458333  64.421875   \n",
       "master's degree              74.625000     64.666667  80.166667  70.526316   \n",
       "some college                 73.828571     65.777778  65.756757  69.420290   \n",
       "some high school             72.111111     62.083333  66.447368  65.632653   \n",
       "\n",
       "                                                  writing score             \\\n",
       "race/ethnicity                 group D    group E       group A    group B   \n",
       "parental level of education                                                  \n",
       "associate's degree           70.540000  73.820513     63.571429  68.243902   \n",
       "bachelor's degree            70.142857  74.833333     68.333333  71.650000   \n",
       "high school                  64.409091  70.318182     60.500000  61.250000   \n",
       "master's degree              77.173913  82.125000     67.666667  77.166667   \n",
       "some college                 70.880597  72.628571     65.000000  64.189189   \n",
       "some high school             69.980000  69.555556     58.583333  64.605263   \n",
       "\n",
       "                                                              \n",
       "race/ethnicity                 group C    group D    group E  \n",
       "parental level of education                                   \n",
       "associate's degree           70.269231  69.860000  73.205128  \n",
       "bachelor's degree            75.900000  71.892857  75.388889  \n",
       "high school                  61.656250  63.159091  67.545455  \n",
       "master's degree              69.526316  79.739130  80.500000  \n",
       "some college                 68.869565  71.701493  70.200000  \n",
       "some high school             63.285714  69.100000  66.555556  "
      ]
     },
     "execution_count": 3,
     "metadata": {},
     "output_type": "execute_result"
    }
   ],
   "source": [
    "grouped = grades.groupby([\"race/ethnicity\", \"parental level of education\"]).mean().unstack(\"race/ethnicity\")\n",
    "grouped"
   ]
  },
  {
   "cell_type": "markdown",
   "metadata": {},
   "source": [
    "Hier valt niet enorm veel uit op te maken, dus maken we een grafiek op basis van de verschillende vakken"
   ]
  },
  {
   "cell_type": "code",
   "execution_count": 4,
   "metadata": {},
   "outputs": [
    {
     "data": {
      "image/png": "[encoded data removed]",
      "text/plain": [
       "<Figure size 432x288 with 1 Axes>"
      ]
     },
     "metadata": {
      "needs_background": "light"
     },
     "output_type": "display_data"
    },
    {
     "data": {
      "image/png": "[encoded data removed]",
      "text/plain": [
       "<Figure size 432x288 with 1 Axes>"
      ]
     },
     "metadata": {
      "needs_background": "light"
     },
     "output_type": "display_data"
    },
    {
     "data": {
      "image/png": "[encoded data removed]",
      "text/plain": [
       "<Figure size 432x288 with 1 Axes>"
      ]
     },
     "metadata": {
      "needs_background": "light"
     },
     "output_type": "display_data"
    }
   ],
   "source": [
    "for subject in [\"math score\", \"reading score\", \"writing score\"]:\n",
    "    grouped[subject].plot(kind=\"bar\", title=subject)"
   ]
  },
  {
   "cell_type": "markdown",
   "metadata": {},
   "source": [
    "Bij elke uitkomst is te zien dat masters degree duidelijk boven alle andere degrees uitstijgt.\n",
    "Dit kunnen we confirmen met de chi-squared test."
   ]
  },
  {
   "cell_type": "code",
   "execution_count": 5,
   "metadata": {},
   "outputs": [
    {
     "data": {
      "text/plain": [
       "(6.440163697597559,\n",
       " 1.0,\n",
       " 70,\n",
       " array([[62.08106807, 65.15541221, 65.35056734, 68.29867512, 74.47884681,\n",
       "         65.69543855, 70.37032589, 70.107903  , 71.1713049 , 74.56139324,\n",
       "         64.53203176, 68.47644493, 68.88047866, 71.56256497, 72.89851303],\n",
       "        [64.48187287, 67.67510832, 67.87781051, 70.93992779, 77.35909964,\n",
       "         68.23601861, 73.09169363, 72.81912229, 73.92364817, 77.44483832,\n",
       "         67.02762045, 71.12457233, 71.54423089, 74.33003909, 75.71765106],\n",
       "        [57.32207184, 60.16074362, 60.34093859, 63.063051  , 68.76946451,\n",
       "         60.65937274, 64.97589364, 64.7335875 , 65.71547138, 68.84568312,\n",
       "         59.58515012, 63.22719337, 63.60025478, 66.07673834, 67.3102756 ],\n",
       "        [65.36458767, 68.60153644, 68.80701349, 71.91104916, 78.41809529,\n",
       "         69.17012522, 74.09227126, 73.81596861, 74.93561472, 78.50500768,\n",
       "         67.94518488, 72.09822136, 72.52362477, 75.34756887, 76.75417634],\n",
       "        [61.21447928, 64.24590869, 64.43833965, 67.34529484, 73.43919759,\n",
       "         64.77839681, 69.38802746, 69.12926773, 70.17782561, 73.52059176,\n",
       "         63.63123   , 67.52058316, 67.91897699, 70.5636241 , 71.88092367],\n",
       "        [58.6192536 , 61.52216369, 61.70643642, 64.49014944, 70.32569742,\n",
       "         62.03207664, 66.44627915, 66.1984897 , 67.20259333, 70.40364084,\n",
       "         60.93354468, 64.65800631, 65.03950998, 67.57203565, 68.83348749]]))"
      ]
     },
     "execution_count": 5,
     "metadata": {},
     "output_type": "execute_result"
    }
   ],
   "source": [
    "chi2_contingency(grouped)"
   ]
  },
  {
   "cell_type": "markdown",
   "metadata": {},
   "source": [
    "De P waarde van de uitkomst is 100%. Er is dus totaal geen verband. \n",
    "Ik heb zelf het vermoeden dat ik de opdracht niet goed uitgevoerd heb."
   ]
  }
 ],
 "metadata": {
  "kernelspec": {
   "display_name": "Python 3",
   "language": "python",
   "name": "python3"
  },
  "language_info": {
   "codemirror_mode": {
    "name": "ipython",
    "version": 3
   },
   "file_extension": ".py",
   "mimetype": "text/x-python",
   "name": "python",
   "nbconvert_exporter": "python",
   "pygments_lexer": "ipython3",
   "version": "3.8.5"
  }
 },
 "nbformat": 4,
 "nbformat_minor": 4
}
